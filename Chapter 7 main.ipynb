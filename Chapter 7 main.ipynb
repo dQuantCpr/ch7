{
 "cells": [
  {
   "cell_type": "markdown",
   "metadata": {},
   "source": [
    "# 7 Probabiities of Default (PD): Continuous Time Hazard Models"
   ]
  },
  {
   "cell_type": "markdown",
   "metadata": {},
   "source": [
    "In this chapter, we estimate continuous-time hazard models. These models describe the survival time. We show how to compute\n",
    "survival probabilities and default probabilities in a second stage. \n",
    "We begin by importing the necesary libraries."
   ]
  },
  {
   "cell_type": "code",
   "execution_count": 1,
   "metadata": {},
   "outputs": [
    {
     "name": "stderr",
     "output_type": "stream",
     "text": [
      "C:\\ProgramData\\Anaconda3\\lib\\site-packages\\ipykernel\\parentpoller.py:116: UserWarning: Parent poll failed.  If the frontend dies,\n                the kernel may be left running.  Please let us know\n                about your system (bitness, Python, etc.) at\n                ipython-dev@scipy.org\n  ipython-dev@scipy.org\"\"\")\n"
     ]
    }
   ],
   "source": [
    "import numpy as np\n",
    "import pandas as pd\n",
    "import statsmodels.api as sm\n",
    "import matplotlib.pyplot as plt\n",
    "import lifelines as ll\n",
    "from lifelines import KaplanMeierFitter\n",
    "from lifelines import CoxPHFitter\n",
    "import math"
   ]
  },
  {
   "cell_type": "code",
   "execution_count": 5,
   "metadata": {},
   "outputs": [],
   "source": [
    "import scipy.stats as stats\n",
    "import sklearn\n",
    "import seaborn as sns; sns.set()\n",
    "from statsmodels.stats.weightstats import ttest_ind\n",
    "import numpy.matlib \n",
    "import random\n",
    "from scipy import stats\n",
    "from scipy.stats import ttest_ind\n",
    "import csv\n",
    "import mord as m\n",
    "import Mord_CRA as cra"
   ]
  },
  {
   "cell_type": "markdown",
   "metadata": {},
   "source": [
    "Install nbextensions to activate table of contents from home tab Nbextensions "
   ]
  },
  {
   "cell_type": "code",
   "execution_count": 6,
   "metadata": {},
   "outputs": [],
   "source": [
    "# !pip install jupyter_contrib_nbextensions && jupyter contrib nbextension install "
   ]
  },
  {
   "cell_type": "code",
   "execution_count": 7,
   "metadata": {},
   "outputs": [],
   "source": [
    "# np.set_printoptions(precision=25)"
   ]
  },
  {
   "cell_type": "markdown",
   "metadata": {},
   "source": [
    "Read data sets and install required packages. This step can be skipped if the data set has been imported in the current session or the package has been installed before:"
   ]
  },
  {
   "cell_type": "code",
   "execution_count": 9,
   "metadata": {},
   "outputs": [],
   "source": [
    "mortgage = pd.read_csv(\"mortgage.csv\")  "
   ]
  },
  {
   "cell_type": "markdown",
   "metadata": {},
   "source": [
    " # Actuarial Method\n",
    " ## Reshaping the Data\n",
    " Create a copy of the data set *mortgage*, name it as *lifetest_temp2* ,and sort it by *id*."
   ]
  },
  {
   "cell_type": "code",
   "execution_count": 10,
   "metadata": {},
   "outputs": [],
   "source": [
    "lifetest_temp1 = mortgage"
   ]
  },
  {
   "cell_type": "code",
   "execution_count": 11,
   "metadata": {},
   "outputs": [],
   "source": [
    "lifetest_temp1 = lifetest_temp1.sort_values(['id'],ascending=[1])"
   ]
  },
  {
   "cell_type": "markdown",
   "metadata": {},
   "source": [
    " Generate new variable *time2*."
   ]
  },
  {
   "cell_type": "code",
   "execution_count": 12,
   "metadata": {},
   "outputs": [],
   "source": [
    "lifetest_temp1['time2'] = (lifetest_temp1.time - lifetest_temp1.first_time + 1)\n",
    "lifetest_temp1.sort_values(['id','time2'], ascending=True, inplace=True)"
   ]
  },
  {
   "cell_type": "markdown",
   "metadata": {},
   "source": [
    "Generate new variable *indicator* with values of 0. Then use function *which()* to retrieve the row reference number of the last observation for each value *id*. Fianlly, assign values of 1 to *indicator* when that row is a last observation.\n",
    "\n",
    "If there are any duplicates, function *duplicated()* with argument *fromLast=TRUE* will retrieve the reference number of all duplicated elements except for the last identical elements. Then function *!duplicated(lifetest_temp1$id, fromLast=T)* will only keep the last identical elements and non-duplicated elements, which is equivalent to the last observations.\n"
   ]
  },
  {
   "cell_type": "code",
   "execution_count": 13,
   "metadata": {},
   "outputs": [],
   "source": [
    "lifetest_temp1['indicator'] = 0"
   ]
  },
  {
   "cell_type": "code",
   "execution_count": 14,
   "metadata": {},
   "outputs": [],
   "source": [
    "temp_ref = np.array(np.where([lifetest_temp1.id.duplicated(keep='last')==False])[1])"
   ]
  },
  {
   "cell_type": "code",
   "execution_count": 15,
   "metadata": {},
   "outputs": [],
   "source": [
    "lifetest_temp1.loc[temp_ref,'indicator'] = 1"
   ]
  },
  {
   "cell_type": "markdown",
   "metadata": {},
   "source": [
    " Create a subset of *lifetest_temp1* with condition of both *indicator* and *default_time* are 1. Name it as *lifetest_temp2*."
   ]
  },
  {
   "cell_type": "code",
   "execution_count": 16,
   "metadata": {},
   "outputs": [],
   "source": [
    "lifetest_temp2 = lifetest_temp1[(lifetest_temp1.indicator == 1) | (lifetest_temp1.default_time == 1)]   "
   ]
  },
  {
   "cell_type": "markdown",
   "metadata": {},
   "source": [
    "Use function *which()* to retrieve the row reference number of the first observation for each value of *id*. Then create a subset of *lifetest_temp2* with these row reference numbers and name it as *lifetest*."
   ]
  },
  {
   "cell_type": "code",
   "execution_count": 17,
   "metadata": {},
   "outputs": [],
   "source": [
    "temp_ref = np.where([lifetest_temp2.id.duplicated(keep='first')==False])[1]"
   ]
  },
  {
   "cell_type": "code",
   "execution_count": 18,
   "metadata": {},
   "outputs": [],
   "source": [
    "lifetest = lifetest_temp2.iloc[temp_ref]"
   ]
  },
  {
   "cell_type": "markdown",
   "metadata": {},
   "source": [
    "Generate output with selected variables (columns) and id values.\n",
    "  \n",
    "----sample output-------------------------------------------------------\n",
    "\n",
    "**Exhibit 7.4**"
   ]
  },
  {
   "cell_type": "code",
   "execution_count": 19,
   "metadata": {},
   "outputs": [
    {
     "name": "stdout",
     "output_type": "stream",
     "text": [
      "     default_time  time2  payoff_time  FICO_orig_time  LTV_orig_time  id  first_time\n358             1      5            0             581           80.0  46          25\n361             0      3            1             600           80.0  47          25\n424             0     36            0             664           52.5  56          25\n"
     ]
    }
   ],
   "source": [
    "variables = {'id', 'first_time', 'time2','default_time','payoff_time','FICO_orig_time','LTV_orig_time'}\n",
    "sliced_lifetest = lifetest.loc[:,variables] \n",
    "list_of_values = [46,47,56]\n",
    "sliced_lifetest= sliced_lifetest.query(\"id in @list_of_values\")\n",
    "print(sliced_lifetest.to_string())"
   ]
  },
  {
   "cell_type": "code",
   "execution_count": 18,
   "metadata": {},
   "outputs": [],
   "source": [
    "#R code results to compare with\n",
    "#> print(lifetest[, variables][which(lifetest$id %in% c(46,47,56)), ])\n",
    "#    id first_time time2 default_time payoff_time FICO_orig_time LTV_orig_time\n",
    "#359 46         25     5            1           0            581          80.0\n",
    "#362 47         25     3            0           1            600          80.0\n",
    "#425 56         25    36            0           0            664          52.5"
   ]
  },
  {
   "cell_type": "markdown",
   "metadata": {},
   "source": [
    "## Model Estimation Using lifetab"
   ]
  },
  {
   "cell_type": "markdown",
   "metadata": {},
   "source": [
    "Set end points for time intervals."
   ]
  },
  {
   "cell_type": "code",
   "execution_count": 1,
   "metadata": {},
   "outputs": [],
   "source": [
    "tis = [0,10,20,30,40,50,float('Infinity')]"
   ]
  },
  {
   "cell_type": "markdown",
   "metadata": {},
   "source": [
    "Find the number of subjects initially entering the study."
   ]
  },
  {
   "cell_type": "code",
   "execution_count": 21,
   "metadata": {},
   "outputs": [],
   "source": [
    "ninit = len(lifetest)"
   ]
  },
  {
   "cell_type": "markdown",
   "metadata": {},
   "source": [
    "Find the number of censored observations that lie within each time intervals."
   ]
  },
  {
   "cell_type": "code",
   "execution_count": 22,
   "metadata": {},
   "outputs": [
    {
     "name": "stdout",
     "output_type": "stream",
     "text": [
      "[21300  4139  2083  6031  1286     7]\n"
     ]
    }
   ],
   "source": [
    "nlost = np.array([])\n",
    "result_censored = 0\n",
    "for i in range(0,len(tis) -1):\n",
    "    condition_censored = ((lifetest['time2'] >= tis[i]) & (lifetest['time2'] < tis[i+1]) & (lifetest['default_time'] == 0))\n",
    "    #print(condition)\n",
    "    result_censored = len(lifetest[condition_censored])\n",
    "    #print(result)\n",
    "    nlost = np.append(nlost, result_censored)\n",
    "print(nlost.astype(int))"
   ]
  },
  {
   "cell_type": "markdown",
   "metadata": {},
   "source": [
    "Find the number of failed observations that lie within each time intervals."
   ]
  },
  {
   "cell_type": "code",
   "execution_count": 23,
   "metadata": {},
   "outputs": [
    {
     "name": "stdout",
     "output_type": "stream",
     "text": [
      "[8243 4880 1662  353   16    0]\n"
     ]
    }
   ],
   "source": [
    "nevent = np.array([])\n",
    "result_failed = 0\n",
    "for i in range(0,len(tis) -1):\n",
    "    condition_failed = ((lifetest['time2'] >= tis[i]) & (lifetest['time2'] < tis[i+1]) & (lifetest['default_time'] == 1))\n",
    "    #print(condition)\n",
    "    result_failed = len(lifetest[condition_failed])\n",
    "    #print(result)\n",
    "    nevent = np.append(nevent, result_failed)\n",
    "print(nevent.astype(int))"
   ]
  },
  {
   "cell_type": "markdown",
   "metadata": {},
   "source": [
    "Generate a life table object with name as *LifeTable* by using above variables and function *lifetab* from library *KMsurv*.\n",
    "First, we define a function lifetab:"
   ]
  },
  {
   "cell_type": "code",
   "execution_count": 24,
   "metadata": {},
   "outputs": [],
   "source": [
    "def lifetab (tis, ninit, nlost, nevent):\n",
    "    Ypj = np.append(ninit, ninit - np.cumsum(nlost + nevent)[:-1])\n",
    "    yj = Ypj - nlost/2\n",
    "    Yj = [ \"{:0.2f}\".format(x) for x in Ypj - nlost/2 ]\n",
    "    Sj = np.cumprod(1 - np.divide(nevent,np.array(Ypj - nlost/2)))\n",
    "    qj = np.divide(nevent,np.array(Ypj - nlost/2))\n",
    "    pj = 1 - qj\n",
    "    n = len(Yj)\n",
    "    Sj = np.append(1, Sj[:-1])\n",
    "    fmj = np.divide(np.append(np.diff(-1 * Sj), np.NAN),np.diff(tis))\n",
    "    hmj = np.divide(np.divide(nevent,np.diff(tis)),(yj - np.divide(nevent,2)))\n",
    "    hmj[n-1] = np.NAN\n",
    "    Sj_se = np.append(0, Sj[1:] * np.sqrt(np.cumsum(np.divide(np.divide(nevent,yj),(yj - nevent)))[:-1]))\n",
    "    qj[-1] = np.NAN\n",
    "    aa = np.divide(qj,np.diff(tis));\n",
    "    bb = np.append(0, np.cumsum(np.divide(np.divide(qj,yj),pj))[:-1]);\n",
    "    cc = np.divide(np.divide(pj,yj),qj);\n",
    "    dd = np.sqrt(bb + cc);\n",
    "    fmj_se = Sj * aa *  dd ;\n",
    "    fmj_se[-1] = np.NAN\n",
    "    hmj_se = np.sqrt(1 - (hmj * np.divide(np.diff(tis),2))**2) * np.sqrt(np.divide(np.divide(hmj**2,yj),qj))\n",
    "    hmj_se[-1] = np.NAN\n",
    "    row_names = np.dstack([tis[:-1],tis[1:]])\n",
    "    dtable = {\n",
    "        'nsubs' : Ypj, \n",
    "        'nlost' : nlost,\n",
    "        'nrisk' : Yj,\n",
    "        'nevent' : nevent, \n",
    "        'surv' : Sj,\n",
    "        'pdf' : fmj,\n",
    "        'hazard' : hmj,\n",
    "        'se_surv' : Sj_se, \n",
    "        'se_pdf' : fmj_se,\n",
    "        'se_hazard' : hmj_se}\n",
    "    colnames = ['nsubs','nlost','nrisk','nevent','surv','pdf','hazard','se_surv','se_pdf','se_hazard'] \n",
    "    row_names = zip(tis[:-1], tis[1:])\n",
    "    LifeTable = pd.DataFrame(data = dtable,index = row_names, columns = colnames )\n",
    "    return LifeTable.to_string()"
   ]
  },
  {
   "cell_type": "markdown",
   "metadata": {},
   "source": [
    "Then we generate the Life table object:"
   ]
  },
  {
   "cell_type": "code",
   "execution_count": 25,
   "metadata": {},
   "outputs": [
    {
     "name": "stdout",
     "output_type": "stream",
     "text": [
      "             nsubs    nlost     nrisk  nevent      surv       pdf    hazard   se_surv    se_pdf  se_hazard\n(0, 10)    50000.0  21300.0  39350.00  8243.0  1.000000  0.020948  0.023399  0.000000  0.000205   0.000256\n(10, 20)   20457.0   4139.0  18387.50  4880.0  0.790521  0.020980  0.030600  0.002051  0.000263   0.000433\n(20, 30)   11438.0   2083.0  10396.50  1662.0  0.580719  0.009283  0.017375  0.002983  0.000214   0.000425\n(30, 40)    7693.0   6031.0   4677.50   353.0  0.487884  0.003682  0.007843  0.003261  0.000190   0.000417\n(40, 50)    1309.0   1286.0    666.00    16.0  0.451065  0.001084  0.002432  0.003556  0.000268   0.000608\n(50, inf)      7.0      7.0      3.50     0.0  0.440228       NaN       NaN  0.004382       NaN        NaN\n"
     ]
    }
   ],
   "source": [
    " LifeTable = lifetab(tis, ninit, nlost, nevent)\n",
    " print(LifeTable)"
   ]
  },
  {
   "cell_type": "markdown",
   "metadata": {},
   "source": [
    "**Exhibit 7.5**"
   ]
  },
  {
   "cell_type": "code",
   "execution_count": 26,
   "metadata": {},
   "outputs": [],
   "source": [
    "# R code results to compare to:\n",
    "#> print(LifeTable)\n",
    "#       nsubs nlost   nrisk nevent      surv         pdf      hazard     se.surv       se.pdf    se.hazard\n",
    "#0-10   50000 21300 39350.0   8243 1.0000000 0.020947903 0.023398669 0.000000000 0.0002051420 0.0002559504\n",
    "#10-20  20457  4139 18387.5   4880 0.7905210 0.020980244 0.030600408 0.002051420 0.0002631055 0.0004328860\n",
    "#20-30  11438  2083 10396.5   1662 0.5807185 0.009283453 0.017374941 0.002982786 0.0002141000 0.0004245832\n",
    "#30-40   7693  6031  4677.5    353 0.4878840 0.003681947 0.007842702 0.003261337 0.0001900311 0.0004171038\n",
    "#40-50   1309  1286   666.0     16 0.4510645 0.001083639 0.002431611 0.003555574 0.0002677720 0.0006078578\n",
    "#50-Inf     7     7     3.5      0 0.4402281          NA          NA 0.004382335           NA           NA"
   ]
  },
  {
   "cell_type": "code",
   "execution_count": 27,
   "metadata": {},
   "outputs": [],
   "source": [
    "################################################################################################################"
   ]
  },
  {
   "cell_type": "markdown",
   "metadata": {},
   "source": [
    "Retrieve the probability density from *LifeTable* and plot it against the mid points of each time interval."
   ]
  },
  {
   "cell_type": "raw",
   "metadata": {},
   "source": [
    " # Retrieve the probability density from *LifeTable* and plot it against the mid points of each time interval.\n",
    " ## ----LifeTable pdf plot--------------------------------------------------\n",
    " midpoints <- c(5, 15, 25, 35, 45)\n",
    " plot(LifeTable$pdf[1:5] ~ midpoints, type = \"o\", ylim = c(0, 0.025), main = \"Estimated Probability Density Function\", xlab = \"time2\", ylab = \"Probability Density\")\n",
    " dev.copy(png,'Estimated Probability Density Function.png')\n",
    " # **Exhibit 7.6**"
   ]
  },
  {
   "cell_type": "code",
   "execution_count": 28,
   "metadata": {},
   "outputs": [],
   "source": [
    "midpoints = np.array([5, 15, 25, 35, 45])"
   ]
  },
  {
   "cell_type": "code",
   "execution_count": 28,
   "metadata": {},
   "outputs": [],
   "source": [
    "# plot(LifeTable$pdf[1:5] ~ midpoints, type = \"o\", ylim = c(0, 0.025), main = \"Estimated Probability Density Function\", xlab = \"time2\", ylab = \"Probability Density\")"
   ]
  },
  {
   "cell_type": "markdown",
   "metadata": {},
   "source": [
    "**Exhibit 7.6**"
   ]
  },
  {
   "cell_type": "markdown",
   "metadata": {},
   "source": [
    "Retrieve the survival function from *LifeTable* and plot it against the mid points of each time interval."
   ]
  },
  {
   "cell_type": "raw",
   "metadata": {},
   "source": [
    " # Retrieve the survival function from *LifeTable* and plot it against the mid points of each time interval.\n",
    " ## ----LifeTable survival function plot------------------------------------\n",
    " plot(LifeTable$surv[1:5] ~ midpoints, type = \"o\", ylim = c(0, 1), main = \"Life-Table Survival Curve\", xlab = \"time2\", ylab = \"Survival Probability\")\n",
    " dev.copy(png,'Life-Table Survival Curve.png')\n",
    " # **Exhibit 7.7**"
   ]
  },
  {
   "cell_type": "code",
   "execution_count": 27,
   "metadata": {},
   "outputs": [],
   "source": [
    "# plot(LifeTable$surv[1:5] ~ midpoints, type = \"o\", ylim = c(0, 1), main = \"Life-Table Survival Curve\", xlab = \"time2\", ylab = \"Survival Probability\")"
   ]
  },
  {
   "cell_type": "markdown",
   "metadata": {},
   "source": [
    "**Exhibit 7.7**"
   ]
  },
  {
   "cell_type": "markdown",
   "metadata": {},
   "source": [
    "Retrieve the hazard rate from *LifeTable* and plot it against the mid points of each time interval. "
   ]
  },
  {
   "cell_type": "raw",
   "metadata": {},
   "source": [
    " # Retrieve the hazard rate from *LifeTable* and plot it against the mid points of each time interval. \n",
    " ## ----LifeTable hazard rate plot------------------------------------------\n",
    " plot(LifeTable$hazard[1:5] ~ midpoints, type = \"o\", ylim = c(0, 0.035),  main = \"Estimated Hazard Function\",xlab = \"time2\", ylab = \"Hazard Rate\")\n",
    " dev.copy(png,'Estimated Hazard Function.png')\n",
    " # **Exhibit 7.8**"
   ]
  },
  {
   "cell_type": "code",
   "execution_count": 28,
   "metadata": {},
   "outputs": [],
   "source": [
    "# plot(LifeTable$hazard[1:5] ~ midpoints, type = \"o\", ylim = c(0, 0.035),  main = \"Estimated Hazard Function\",xlab = \"time2\", ylab = \"Hazard Rate\")"
   ]
  },
  {
   "cell_type": "markdown",
   "metadata": {},
   "source": [
    "**Exhibit 7.8**"
   ]
  },
  {
   "cell_type": "code",
   "execution_count": 29,
   "metadata": {},
   "outputs": [],
   "source": [
    "################################################################################################################"
   ]
  },
  {
   "cell_type": "markdown",
   "metadata": {},
   "source": [
    "## Controlling for Information in Nonparametric Models\n",
    "\n",
    "Create a copy of *lifetest* and name it as *lifetest2*. Then sort it by *id*."
   ]
  },
  {
   "cell_type": "code",
   "execution_count": 29,
   "metadata": {},
   "outputs": [],
   "source": [
    "lifetest2 = pd.DataFrame(lifetest)"
   ]
  },
  {
   "cell_type": "code",
   "execution_count": 30,
   "metadata": {},
   "outputs": [],
   "source": [
    "lifetest2.sort_values(['FICO_orig_time'], ascending=True, inplace=True)                   "
   ]
  },
  {
   "cell_type": "markdown",
   "metadata": {},
   "source": [
    "Use for loop and function *quantile()* to compute the quantiles of *FICO_orig_time*."
   ]
  },
  {
   "cell_type": "code",
   "execution_count": 31,
   "metadata": {},
   "outputs": [],
   "source": [
    "q = np.arange(0, 1.2, 0.2)\n",
    "quantiles = []\n",
    "for i in range(len(q)):\n",
    "        quantiles.append(lifetest2.FICO_orig_time.quantile(q[i]))"
   ]
  },
  {
   "cell_type": "markdown",
   "metadata": {},
   "source": [
    "Generate new variable *FICO_orig_time_rank* with values of zero. Use a for loop to retrieve the row reference number  where *FICO_orig_time* values lie within each quantile interval, and assign different values to  *FICO_orig_time_rank* depending on which quantile interval that *FICO_orig_time* values lie within. "
   ]
  },
  {
   "cell_type": "code",
   "execution_count": 32,
   "metadata": {},
   "outputs": [],
   "source": [
    "lifetest2['FICO_orig_time_rank'] = np.matlib.zeros((len(lifetest2),1))        \n",
    "for i in range(5):\n",
    "    temp_ref = np.array(lifetest2.FICO_orig_time.iloc[:].isin(np.arange(quantiles[i],quantiles[i + 1] + 1)))\n",
    "    lifetest2.loc[temp_ref,'FICO_orig_time_rank'] = i-1+1  "
   ]
  },
  {
   "cell_type": "markdown",
   "metadata": {},
   "source": [
    "Sort *lifetest2* again by *id*."
   ]
  },
  {
   "cell_type": "code",
   "execution_count": 33,
   "metadata": {},
   "outputs": [],
   "source": [
    "lifetest2.sort_values(['id'], ascending=True, inplace=True)  "
   ]
  },
  {
   "cell_type": "markdown",
   "metadata": {},
   "source": [
    "Define *ranks* which represents the possible values for *FICO_orig_time_rank*."
   ]
  },
  {
   "cell_type": "code",
   "execution_count": 34,
   "metadata": {},
   "outputs": [],
   "source": [
    "ranks = np.arange(4)"
   ]
  },
  {
   "cell_type": "markdown",
   "metadata": {},
   "source": [
    "Define *sp_rank* as a matrix with value of 0. It will be used to store survival probabilities for different *FICO_orig_time_rank* and different survival *time2*."
   ]
  },
  {
   "cell_type": "code",
   "execution_count": 35,
   "metadata": {},
   "outputs": [],
   "source": [
    "sp_rank =  np.matlib.zeros((6,5))"
   ]
  },
  {
   "cell_type": "markdown",
   "metadata": {},
   "source": [
    "Generate a life table for *FICO_orig_time_rank* = 0, similar to the above procedure."
   ]
  },
  {
   "cell_type": "code",
   "execution_count": 36,
   "metadata": {},
   "outputs": [],
   "source": [
    "tis = [0,10,20,30,40,50,float('Infinity')]"
   ]
  },
  {
   "cell_type": "code",
   "execution_count": 37,
   "metadata": {},
   "outputs": [],
   "source": [
    "ninit = len(lifetest2[lifetest2['FICO_orig_time_rank'] == ranks[0]])"
   ]
  },
  {
   "cell_type": "code",
   "execution_count": 38,
   "metadata": {},
   "outputs": [
    {
     "name": "stdout",
     "output_type": "stream",
     "text": [
      "[4904  574  212  719  160    3]\n"
     ]
    }
   ],
   "source": [
    "nlost = np.array([])\n",
    "result_censored = 0\n",
    "for i in range(0,len(tis) -1):\n",
    "    condition_censored = ((lifetest2['time2'] >= tis[i]) &\n",
    "                          (lifetest2['time2'] < tis[i+1]) &\n",
    "                          (lifetest2['default_time'] == 0)&\n",
    "                          (lifetest2['FICO_orig_time_rank'] == ranks[0]) )\n",
    "    result_censored = len(lifetest2[condition_censored])\n",
    "    nlost = np.append(nlost, result_censored)\n",
    "print(nlost.astype(int))       "
   ]
  },
  {
   "cell_type": "code",
   "execution_count": 39,
   "metadata": {},
   "outputs": [
    {
     "name": "stdout",
     "output_type": "stream",
     "text": [
      "[2191  801  290   64    4    0]\n"
     ]
    }
   ],
   "source": [
    "nevent = np.array([])\n",
    "for i in range(0,len(tis) -1):\n",
    "    condition_failed = ((lifetest2['time2'] >= tis[i]) &\n",
    "                        (lifetest2['time2'] < tis[i+1]) &\n",
    "                        (lifetest2['default_time'] == 1)&\n",
    "                        (lifetest2['FICO_orig_time_rank'] == ranks[0]))\n",
    "    result_failed = len(lifetest2[condition_failed])\n",
    "    nevent = np.append(nevent,result_failed)\n",
    "print(nevent.astype(int))"
   ]
  },
  {
   "cell_type": "code",
   "execution_count": 40,
   "metadata": {},
   "outputs": [
    {
     "name": "stdout",
     "output_type": "stream",
     "text": [
      "            nsubs   nlost    nrisk  nevent      surv       pdf    hazard   se_surv    se_pdf  se_hazard\n(0, 10)    9922.0  4904.0  7470.00  2191.0  1.000000  0.029331  0.034371  0.000000  0.000527   0.000723\n(10, 20)   2827.0   574.0  2540.00   801.0  0.706693  0.022286  0.037439  0.005268  0.000672   0.001299\n(20, 30)   1452.0   212.0  1346.00   290.0  0.483835  0.010424  0.024147  0.007447  0.000565   0.001408\n(30, 40)    950.0   719.0   590.50    64.0  0.379591  0.004114  0.011459  0.007971  0.000493   0.001430\n(40, 50)    167.0   160.0    87.00     4.0  0.338450  0.001556  0.004706  0.008607  0.000761   0.002352\n(50, inf)     3.0     3.0     1.50     0.0  0.322889       NaN       NaN  0.011189       NaN        NaN\n"
     ]
    }
   ],
   "source": [
    "LifeTable2 = lifetab(tis, ninit, nlost, nevent)\n",
    "print(LifeTable2)"
   ]
  },
  {
   "cell_type": "code",
   "execution_count": 41,
   "metadata": {},
   "outputs": [],
   "source": [
    "# R code results to compare with:\n",
    "#> LifeTable\n",
    "#       nsubs nlost  nrisk nevent      surv         pdf      hazard     se.surv       se.pdf    se.hazard\n",
    "#0-10    9922  4904 7470.0   2191 1.0000000 0.029330656 0.034371323 0.000000000 0.0005267640 0.0007233776\n",
    "#10-20   2827   574 2540.0    801 0.7066934 0.022285884 0.037438654 0.005267640 0.0006723912 0.0012994463\n",
    "#20-30   1452   212 1346.0    290 0.4838346 0.010424371 0.024146545 0.007447020 0.0005654428 0.0014075618\n",
    "#30-40    950   719  590.5     64 0.3795909 0.004114110 0.011459266 0.007970785 0.0004932207 0.0014300551\n",
    "#40-50    167   160   87.0      4 0.3384498 0.001556091 0.004705882 0.008607452 0.0007609787 0.0023522898\n",
    "#50-Inf     3     3    1.5      0 0.3228889          NA          NA 0.011188582           NA           NA"
   ]
  },
  {
   "cell_type": "code",
   "execution_count": 42,
   "metadata": {},
   "outputs": [],
   "source": [
    "################################################################################################################"
   ]
  },
  {
   "cell_type": "markdown",
   "metadata": {},
   "source": [
    "Retrieve the survival probabilities from the above life table to *sp_rank*. Then plot this survival curve."
   ]
  },
  {
   "cell_type": "raw",
   "metadata": {},
   "source": [
    " # Retrieve the survival probabilities from the above life table to *sp_rank*. Then plot this survival curve.\n",
    " ## ----non.finished.plotting, eval=FALSE-----------------------------------\n",
    " ## sp_rank[, 1] <- LifeTable$surv\n",
    " ## plot(sp_rank[, 1] ~ seq(0, 50, 10), ylim = c(0, 1), type = \"o\", lty = 1, pch = 1, main = \"Life-Table Survival Curves\", xlab = \"time2\", ylab = \"Survival Probability\")\n",
    " \n",
    " # Use a a for loop to repeat this process for other values of *FICO_orig_time_rank* and add more survival curves to the previous plot.\n",
    " ## ----add.layer, echo=-1--------------------------------------------------\n",
    " sp_rank[, 1] <- LifeTable$surv\n",
    " plot(sp_rank[, 1] ~ seq(0, 50, 10), ylim = c(0, 1), type = \"o\", lty = 1, pch = 1, main = \"Life-Table Survival Curves\", xlab = \"time2\", ylab = \"Survival Probability\")\n",
    " dev.copy(png,'Life-Table Survival Curves.png')\n",
    "# png \n",
    "  # 4 \n",
    " dev.off()\n",
    "# RStudioGD \n",
    "        # 2 \n",
    " \n",
    " for (j in 2:length(ranks)){\n",
    "   ninit <- as.numeric(nrow(lifetest2[lifetest2$FICO_orig_time_rank == ranks[j], ]))\n",
    "   \n",
    " for (i in 1:(length(tis)-1)){\n",
    " nlost[i] <- as.numeric(nrow(lifetest2[lifetest2$time2 >= tis[i] & lifetest2$time2 < tis[i+1] & lifetest2$default_time == 0 & lifetest2$FICO_orig_time_rank == ranks[j], ]))\n",
    " }\n",
    " \n",
    " for (i in 1:(length(tis)-1)){\n",
    " nevent[i] <- as.numeric(nrow(lifetest2[lifetest2$time2 >= tis[i] & lifetest2$time2 < tis[i+1] & lifetest2$default_time == 1 & lifetest2$FICO_orig_time_rank == ranks[j], ]))\n",
    " }\n",
    "  \n",
    " LifeTable <- lifetab(tis, ninit, nlost, nevent)\n",
    " \n",
    " sp_rank[, j] <- LifeTable$surv\n",
    "  \n",
    " lines(sp_rank[, j] ~ seq(0, 50, 10), type = \"o\", lty = j, pch = j)\n",
    " }\n",
    " legend(x = \"bottom\", y.intersp = 0.9, bty = \"n\", cex=0.65, title = \"Rank for Variable FICO_orig_time\",legend = as.character(0:4), lwd = 1, pch = 1:5, lty = 1:5, horiz = TRUE)\n",
    " \n",
    " # **Exhibit 7.9**"
   ]
  },
  {
   "cell_type": "code",
   "execution_count": null,
   "metadata": {},
   "outputs": [],
   "source": [
    " ## sp_rank[, 1] <- LifeTable$surv\n",
    " # > sp_rank[, 1]\n",
    " #[1] 1.0000000 0.7066934 0.4838346 0.3795909 0.3384498 0.3228889  \n",
    "    \n",
    " ## plot(sp_rank[, 1] ~ seq(0, 50, 10), ylim = c(0, 1), type = \"o\", lty = 1, pch = 1, main = \"Life-Table Survival Curves\", xlab = \"time2\", ylab = \"Survival Probability\")\n",
    "    \n",
    " sp_rank[, 1] <- LifeTable$surv\n",
    " plot(sp_rank[, 1] ~ seq(0, 50, 10), ylim = c(0, 1), type = \"o\", lty = 1, pch = 1, main = \"Life-Table Survival Curves\", xlab = \"time2\", ylab = \"Survival Probability\")\n",
    " dev.copy(png,'Life-Table Survival Curves.png')"
   ]
  },
  {
   "cell_type": "code",
   "execution_count": null,
   "metadata": {},
   "outputs": [],
   "source": [
    "Use a a for loop to repeat this process for other values of *FICO_orig_time_rank* and add more survival curves to the previous plot."
   ]
  },
  {
   "cell_type": "code",
   "execution_count": null,
   "metadata": {},
   "outputs": [],
   "source": [
    " for (j in 2:length(ranks)){\n",
    "   ninit <- as.numeric(nrow(lifetest2[lifetest2$FICO_orig_time_rank == ranks[j], ]))\n",
    "   \n",
    " for (i in 1:(length(tis)-1)){\n",
    " nlost[i] <- as.numeric(nrow(lifetest2[lifetest2$time2 >= tis[i] & lifetest2$time2 < tis[i+1] & lifetest2$default_time == 0 & lifetest2$FICO_orig_time_rank == ranks[j], ]))\n",
    " }\n",
    " \n",
    " for (i in 1:(length(tis)-1)){\n",
    " nevent[i] <- as.numeric(nrow(lifetest2[lifetest2$time2 >= tis[i] & lifetest2$time2 < tis[i+1] & lifetest2$default_time == 1 & lifetest2$FICO_orig_time_rank == ranks[j], ]))\n",
    " }\n",
    "  \n",
    " LifeTable <- lifetab(tis, ninit, nlost, nevent)\n",
    " \n",
    " sp_rank[, j] <- LifeTable$surv\n",
    "  \n",
    " lines(sp_rank[, j] ~ seq(0, 50, 10), type = \"o\", lty = j, pch = j)\n",
    " }"
   ]
  },
  {
   "cell_type": "code",
   "execution_count": null,
   "metadata": {},
   "outputs": [],
   "source": [
    "legend(x = \"bottom\", y.intersp = 0.9, bty = \"n\", cex=0.65,\n",
    "       title = \"Rank for Variable FICO_orig_time\",legend = as.character(0:4),\n",
    "       lwd = 1, pch = 1:5, lty = 1:5, horiz = TRUE)"
   ]
  },
  {
   "cell_type": "markdown",
   "metadata": {},
   "source": [
    "**Exhibit 7.9**"
   ]
  },
  {
   "cell_type": "code",
   "execution_count": null,
   "metadata": {},
   "outputs": [],
   "source": [
    "################################################################################################################"
   ]
  },
  {
   "cell_type": "markdown",
   "metadata": {},
   "source": [
    "## Test of Equality over Groups\n",
    " \n",
    "Use function *survdiff()* from library *survival* to conduct survival curve difference test. Setting argument *rho = 0* is log-rank test."
   ]
  },
  {
   "cell_type": "code",
   "execution_count": 57,
   "metadata": {},
   "outputs": [],
   "source": [
    "from lifelines import KaplanMeierFitter\n",
    "kmf = KaplanMeierFitter()"
   ]
  },
  {
   "cell_type": "code",
   "execution_count": 58,
   "metadata": {},
   "outputs": [
    {
     "data": {
      "text/plain": [
       "<function lifelines.statistics.logrank_test(durations_A, durations_B, event_observed_A=None, event_observed_B=None, t_0=-1, **kwargs)>"
      ]
     },
     "execution_count": 58,
     "metadata": {},
     "output_type": "execute_result"
    }
   ],
   "source": [
    "from lifelines.statistics import logrank_test\n",
    "logrank_test"
   ]
  },
  {
   "cell_type": "code",
   "execution_count": 59,
   "metadata": {},
   "outputs": [
    {
     "data": {
      "text/plain": [
       "<function lifelines.statistics.multivariate_logrank_test(event_durations, groups, event_observed=None, t_0=-1, **kwargs)>"
      ]
     },
     "execution_count": 59,
     "metadata": {},
     "output_type": "execute_result"
    }
   ],
   "source": [
    "from lifelines.statistics import multivariate_logrank_test\n",
    "multivariate_logrank_test"
   ]
  },
  {
   "cell_type": "code",
   "execution_count": 44,
   "metadata": {
    "collapsed": true
   },
   "outputs": [
    {
     "ename": "IndentationError",
     "evalue": "unexpected indent (<ipython-input-44-8c21dcbc9ca2>, line 6)",
     "traceback": [
      "\u001b[1;36m  File \u001b[1;32m\"<ipython-input-44-8c21dcbc9ca2>\"\u001b[1;36m, line \u001b[1;32m6\u001b[0m\n\u001b[1;33m    survdiff(formula = Surv(time2, default_time) ~ lifetest2$FICO_orig_time_rank, data = lifetest, rho = 0)\u001b[0m\n\u001b[1;37m    ^\u001b[0m\n\u001b[1;31mIndentationError\u001b[0m\u001b[1;31m:\u001b[0m unexpected indent\n"
     ],
     "output_type": "error"
    }
   ],
   "source": [
    " ##Test of Equality over Groups\n",
    " \n",
    " # Use function *survdiff()* from library *survival* to conduct survival curve difference test. Setting argument *rho = 0* is log-rank test.\n",
    " ## ----log rank survdiff---------------------------------------------------\n",
    " \n",
    "    survdiff(formula = Surv(time2, default_time) ~ lifetest2$FICO_orig_time_rank, data = lifetest, rho = 0)\n",
    "\n",
    "# Call:\n",
    "# survdiff(formula = Surv(time2, default_time) ~ lifetest2$FICO_orig_time_rank, # data = lifetest, rho = 0)\n",
    "\n",
    "                                    # N Observed Expected (O-E)^2/E (O-E)^2/V\n",
    "# lifetest2$FICO_orig_time_rank=0  9922     3350     2320     456.9     557.3\n",
    "# lifetest2$FICO_orig_time_rank=1 10031     3539     2675     279.4     349.6\n",
    "# lifetest2$FICO_orig_time_rank=2 10022     3448     2984      72.3      92.6\n",
    "# lifetest2$FICO_orig_time_rank=3  9992     2919     3370      60.3      79.8\n",
    "# lifetest2$FICO_orig_time_rank=4 10033     1898     3806     956.4    1320.6\n",
    "\n",
    " # Chisq= 1896  on 4 degrees of freedom, p= <2e-16 \n",
    " \n",
    " # **Exhibit 7.10a**"
   ]
  },
  {
   "cell_type": "code",
   "execution_count": 54,
   "metadata": {},
   "outputs": [],
   "source": [
    "f0 = lifetest2.FICO_orig_time_rank==0\n",
    "T0 = lifetest[f0]['time2'].values\n",
    "C0 = lifetest[f0]['default_time'].values\n",
    "\n",
    "f1 = lifetest2.FICO_orig_time_rank==1\n",
    "T1 = lifetest[f1]['time2'].values\n",
    "C1 = lifetest[f1]['default_time'].values\n",
    "\n",
    "f2 = lifetest2.FICO_orig_time_rank==2\n",
    "T2 = lifetest[f2]['time2'].values\n",
    "C2 = lifetest[f2]['default_time'].values\n",
    "\n",
    "f3 = lifetest2.FICO_orig_time_rank==3\n",
    "T3 = lifetest[f3]['time2'].values\n",
    "C3 = lifetest[f3]['default_time'].values\n",
    "\n",
    "f4 = lifetest2.FICO_orig_time_rank==4\n",
    "T4 = lifetest[f4]['time2'].values\n",
    "C4 = lifetest[f4]['default_time'].values\n"
   ]
  },
  {
   "cell_type": "code",
   "execution_count": 55,
   "metadata": {},
   "outputs": [],
   "source": [
    "frmla0 = kmf.fit(T0, event_observed = C0)\n",
    "frmla1 = kmf.fit(T1, event_observed = C1)\n",
    "frmla2 = kmf.fit(T2, event_observed = C2)\n",
    "frmla3 = kmf.fit(T3, event_observed = C3)\n",
    "frmla4 = kmf.fit(T4, event_observed = C4)"
   ]
  },
  {
   "cell_type": "code",
   "execution_count": 47,
   "metadata": {
    "collapsed": true
   },
   "outputs": [
    {
     "data": {
      "text/html": [
       "<div>\n",
       "<style scoped>\n",
       "    .dataframe tbody tr th:only-of-type {\n",
       "        vertical-align: middle;\n",
       "    }\n",
       "\n",
       "    .dataframe tbody tr th {\n",
       "        vertical-align: top;\n",
       "    }\n",
       "\n",
       "    .dataframe thead th {\n",
       "        text-align: right;\n",
       "    }\n",
       "</style>\n",
       "<table border=\"1\" class=\"dataframe\">\n",
       "  <thead>\n",
       "    <tr style=\"text-align: right;\">\n",
       "      <th></th>\n",
       "      <th>removed</th>\n",
       "      <th>observed</th>\n",
       "      <th>censored</th>\n",
       "      <th>entrance</th>\n",
       "      <th>at_risk</th>\n",
       "    </tr>\n",
       "    <tr>\n",
       "      <th>event_at</th>\n",
       "      <th></th>\n",
       "      <th></th>\n",
       "      <th></th>\n",
       "      <th></th>\n",
       "      <th></th>\n",
       "    </tr>\n",
       "  </thead>\n",
       "  <tbody>\n",
       "    <tr>\n",
       "      <th>0.0</th>\n",
       "      <td>0</td>\n",
       "      <td>0</td>\n",
       "      <td>0</td>\n",
       "      <td>10033</td>\n",
       "      <td>10033</td>\n",
       "    </tr>\n",
       "    <tr>\n",
       "      <th>1.0</th>\n",
       "      <td>548</td>\n",
       "      <td>32</td>\n",
       "      <td>516</td>\n",
       "      <td>0</td>\n",
       "      <td>10033</td>\n",
       "    </tr>\n",
       "    <tr>\n",
       "      <th>2.0</th>\n",
       "      <td>585</td>\n",
       "      <td>52</td>\n",
       "      <td>533</td>\n",
       "      <td>0</td>\n",
       "      <td>9485</td>\n",
       "    </tr>\n",
       "    <tr>\n",
       "      <th>3.0</th>\n",
       "      <td>539</td>\n",
       "      <td>53</td>\n",
       "      <td>486</td>\n",
       "      <td>0</td>\n",
       "      <td>8900</td>\n",
       "    </tr>\n",
       "    <tr>\n",
       "      <th>4.0</th>\n",
       "      <td>571</td>\n",
       "      <td>66</td>\n",
       "      <td>505</td>\n",
       "      <td>0</td>\n",
       "      <td>8361</td>\n",
       "    </tr>\n",
       "    <tr>\n",
       "      <th>5.0</th>\n",
       "      <td>466</td>\n",
       "      <td>91</td>\n",
       "      <td>375</td>\n",
       "      <td>0</td>\n",
       "      <td>7790</td>\n",
       "    </tr>\n",
       "    <tr>\n",
       "      <th>6.0</th>\n",
       "      <td>437</td>\n",
       "      <td>94</td>\n",
       "      <td>343</td>\n",
       "      <td>0</td>\n",
       "      <td>7324</td>\n",
       "    </tr>\n",
       "    <tr>\n",
       "      <th>7.0</th>\n",
       "      <td>479</td>\n",
       "      <td>92</td>\n",
       "      <td>387</td>\n",
       "      <td>0</td>\n",
       "      <td>6887</td>\n",
       "    </tr>\n",
       "    <tr>\n",
       "      <th>8.0</th>\n",
       "      <td>458</td>\n",
       "      <td>131</td>\n",
       "      <td>327</td>\n",
       "      <td>0</td>\n",
       "      <td>6408</td>\n",
       "    </tr>\n",
       "    <tr>\n",
       "      <th>9.0</th>\n",
       "      <td>482</td>\n",
       "      <td>131</td>\n",
       "      <td>351</td>\n",
       "      <td>0</td>\n",
       "      <td>5950</td>\n",
       "    </tr>\n",
       "    <tr>\n",
       "      <th>10.0</th>\n",
       "      <td>271</td>\n",
       "      <td>104</td>\n",
       "      <td>167</td>\n",
       "      <td>0</td>\n",
       "      <td>5468</td>\n",
       "    </tr>\n",
       "    <tr>\n",
       "      <th>11.0</th>\n",
       "      <td>296</td>\n",
       "      <td>93</td>\n",
       "      <td>203</td>\n",
       "      <td>0</td>\n",
       "      <td>5197</td>\n",
       "    </tr>\n",
       "    <tr>\n",
       "      <th>12.0</th>\n",
       "      <td>286</td>\n",
       "      <td>98</td>\n",
       "      <td>188</td>\n",
       "      <td>0</td>\n",
       "      <td>4901</td>\n",
       "    </tr>\n",
       "    <tr>\n",
       "      <th>13.0</th>\n",
       "      <td>208</td>\n",
       "      <td>82</td>\n",
       "      <td>126</td>\n",
       "      <td>0</td>\n",
       "      <td>4615</td>\n",
       "    </tr>\n",
       "    <tr>\n",
       "      <th>14.0</th>\n",
       "      <td>218</td>\n",
       "      <td>76</td>\n",
       "      <td>142</td>\n",
       "      <td>0</td>\n",
       "      <td>4407</td>\n",
       "    </tr>\n",
       "    <tr>\n",
       "      <th>15.0</th>\n",
       "      <td>184</td>\n",
       "      <td>80</td>\n",
       "      <td>104</td>\n",
       "      <td>0</td>\n",
       "      <td>4189</td>\n",
       "    </tr>\n",
       "    <tr>\n",
       "      <th>16.0</th>\n",
       "      <td>199</td>\n",
       "      <td>75</td>\n",
       "      <td>124</td>\n",
       "      <td>0</td>\n",
       "      <td>4005</td>\n",
       "    </tr>\n",
       "    <tr>\n",
       "      <th>17.0</th>\n",
       "      <td>162</td>\n",
       "      <td>53</td>\n",
       "      <td>109</td>\n",
       "      <td>0</td>\n",
       "      <td>3806</td>\n",
       "    </tr>\n",
       "    <tr>\n",
       "      <th>18.0</th>\n",
       "      <td>167</td>\n",
       "      <td>78</td>\n",
       "      <td>89</td>\n",
       "      <td>0</td>\n",
       "      <td>3644</td>\n",
       "    </tr>\n",
       "    <tr>\n",
       "      <th>19.0</th>\n",
       "      <td>165</td>\n",
       "      <td>58</td>\n",
       "      <td>107</td>\n",
       "      <td>0</td>\n",
       "      <td>3477</td>\n",
       "    </tr>\n",
       "    <tr>\n",
       "      <th>20.0</th>\n",
       "      <td>144</td>\n",
       "      <td>42</td>\n",
       "      <td>102</td>\n",
       "      <td>0</td>\n",
       "      <td>3312</td>\n",
       "    </tr>\n",
       "    <tr>\n",
       "      <th>21.0</th>\n",
       "      <td>152</td>\n",
       "      <td>44</td>\n",
       "      <td>108</td>\n",
       "      <td>0</td>\n",
       "      <td>3168</td>\n",
       "    </tr>\n",
       "    <tr>\n",
       "      <th>22.0</th>\n",
       "      <td>123</td>\n",
       "      <td>43</td>\n",
       "      <td>80</td>\n",
       "      <td>0</td>\n",
       "      <td>3016</td>\n",
       "    </tr>\n",
       "    <tr>\n",
       "      <th>23.0</th>\n",
       "      <td>114</td>\n",
       "      <td>26</td>\n",
       "      <td>88</td>\n",
       "      <td>0</td>\n",
       "      <td>2893</td>\n",
       "    </tr>\n",
       "    <tr>\n",
       "      <th>24.0</th>\n",
       "      <td>111</td>\n",
       "      <td>41</td>\n",
       "      <td>70</td>\n",
       "      <td>0</td>\n",
       "      <td>2779</td>\n",
       "    </tr>\n",
       "    <tr>\n",
       "      <th>25.0</th>\n",
       "      <td>113</td>\n",
       "      <td>31</td>\n",
       "      <td>82</td>\n",
       "      <td>0</td>\n",
       "      <td>2668</td>\n",
       "    </tr>\n",
       "    <tr>\n",
       "      <th>26.0</th>\n",
       "      <td>92</td>\n",
       "      <td>17</td>\n",
       "      <td>75</td>\n",
       "      <td>0</td>\n",
       "      <td>2555</td>\n",
       "    </tr>\n",
       "    <tr>\n",
       "      <th>27.0</th>\n",
       "      <td>103</td>\n",
       "      <td>15</td>\n",
       "      <td>88</td>\n",
       "      <td>0</td>\n",
       "      <td>2463</td>\n",
       "    </tr>\n",
       "    <tr>\n",
       "      <th>28.0</th>\n",
       "      <td>103</td>\n",
       "      <td>17</td>\n",
       "      <td>86</td>\n",
       "      <td>0</td>\n",
       "      <td>2360</td>\n",
       "    </tr>\n",
       "    <tr>\n",
       "      <th>29.0</th>\n",
       "      <td>109</td>\n",
       "      <td>20</td>\n",
       "      <td>89</td>\n",
       "      <td>0</td>\n",
       "      <td>2257</td>\n",
       "    </tr>\n",
       "    <tr>\n",
       "      <th>30.0</th>\n",
       "      <td>150</td>\n",
       "      <td>14</td>\n",
       "      <td>136</td>\n",
       "      <td>0</td>\n",
       "      <td>2148</td>\n",
       "    </tr>\n",
       "    <tr>\n",
       "      <th>31.0</th>\n",
       "      <td>232</td>\n",
       "      <td>12</td>\n",
       "      <td>220</td>\n",
       "      <td>0</td>\n",
       "      <td>1998</td>\n",
       "    </tr>\n",
       "    <tr>\n",
       "      <th>32.0</th>\n",
       "      <td>186</td>\n",
       "      <td>7</td>\n",
       "      <td>179</td>\n",
       "      <td>0</td>\n",
       "      <td>1766</td>\n",
       "    </tr>\n",
       "    <tr>\n",
       "      <th>33.0</th>\n",
       "      <td>210</td>\n",
       "      <td>12</td>\n",
       "      <td>198</td>\n",
       "      <td>0</td>\n",
       "      <td>1580</td>\n",
       "    </tr>\n",
       "    <tr>\n",
       "      <th>34.0</th>\n",
       "      <td>172</td>\n",
       "      <td>1</td>\n",
       "      <td>171</td>\n",
       "      <td>0</td>\n",
       "      <td>1370</td>\n",
       "    </tr>\n",
       "    <tr>\n",
       "      <th>35.0</th>\n",
       "      <td>161</td>\n",
       "      <td>4</td>\n",
       "      <td>157</td>\n",
       "      <td>0</td>\n",
       "      <td>1198</td>\n",
       "    </tr>\n",
       "    <tr>\n",
       "      <th>36.0</th>\n",
       "      <td>208</td>\n",
       "      <td>3</td>\n",
       "      <td>205</td>\n",
       "      <td>0</td>\n",
       "      <td>1037</td>\n",
       "    </tr>\n",
       "    <tr>\n",
       "      <th>37.0</th>\n",
       "      <td>183</td>\n",
       "      <td>5</td>\n",
       "      <td>178</td>\n",
       "      <td>0</td>\n",
       "      <td>829</td>\n",
       "    </tr>\n",
       "    <tr>\n",
       "      <th>38.0</th>\n",
       "      <td>166</td>\n",
       "      <td>4</td>\n",
       "      <td>162</td>\n",
       "      <td>0</td>\n",
       "      <td>646</td>\n",
       "    </tr>\n",
       "    <tr>\n",
       "      <th>39.0</th>\n",
       "      <td>119</td>\n",
       "      <td>1</td>\n",
       "      <td>118</td>\n",
       "      <td>0</td>\n",
       "      <td>480</td>\n",
       "    </tr>\n",
       "    <tr>\n",
       "      <th>40.0</th>\n",
       "      <td>74</td>\n",
       "      <td>0</td>\n",
       "      <td>74</td>\n",
       "      <td>0</td>\n",
       "      <td>361</td>\n",
       "    </tr>\n",
       "    <tr>\n",
       "      <th>41.0</th>\n",
       "      <td>90</td>\n",
       "      <td>0</td>\n",
       "      <td>90</td>\n",
       "      <td>0</td>\n",
       "      <td>287</td>\n",
       "    </tr>\n",
       "    <tr>\n",
       "      <th>42.0</th>\n",
       "      <td>77</td>\n",
       "      <td>0</td>\n",
       "      <td>77</td>\n",
       "      <td>0</td>\n",
       "      <td>197</td>\n",
       "    </tr>\n",
       "    <tr>\n",
       "      <th>43.0</th>\n",
       "      <td>42</td>\n",
       "      <td>0</td>\n",
       "      <td>42</td>\n",
       "      <td>0</td>\n",
       "      <td>120</td>\n",
       "    </tr>\n",
       "    <tr>\n",
       "      <th>44.0</th>\n",
       "      <td>36</td>\n",
       "      <td>0</td>\n",
       "      <td>36</td>\n",
       "      <td>0</td>\n",
       "      <td>78</td>\n",
       "    </tr>\n",
       "    <tr>\n",
       "      <th>45.0</th>\n",
       "      <td>27</td>\n",
       "      <td>0</td>\n",
       "      <td>27</td>\n",
       "      <td>0</td>\n",
       "      <td>42</td>\n",
       "    </tr>\n",
       "    <tr>\n",
       "      <th>46.0</th>\n",
       "      <td>7</td>\n",
       "      <td>0</td>\n",
       "      <td>7</td>\n",
       "      <td>0</td>\n",
       "      <td>15</td>\n",
       "    </tr>\n",
       "    <tr>\n",
       "      <th>47.0</th>\n",
       "      <td>3</td>\n",
       "      <td>0</td>\n",
       "      <td>3</td>\n",
       "      <td>0</td>\n",
       "      <td>8</td>\n",
       "    </tr>\n",
       "    <tr>\n",
       "      <th>48.0</th>\n",
       "      <td>3</td>\n",
       "      <td>0</td>\n",
       "      <td>3</td>\n",
       "      <td>0</td>\n",
       "      <td>5</td>\n",
       "    </tr>\n",
       "    <tr>\n",
       "      <th>49.0</th>\n",
       "      <td>1</td>\n",
       "      <td>0</td>\n",
       "      <td>1</td>\n",
       "      <td>0</td>\n",
       "      <td>2</td>\n",
       "    </tr>\n",
       "    <tr>\n",
       "      <th>60.0</th>\n",
       "      <td>1</td>\n",
       "      <td>0</td>\n",
       "      <td>1</td>\n",
       "      <td>0</td>\n",
       "      <td>1</td>\n",
       "    </tr>\n",
       "  </tbody>\n",
       "</table>\n",
       "</div>"
      ],
      "text/plain": [
       "          removed  observed  censored  entrance  at_risk\n",
       "event_at                                                \n",
       "0.0             0         0         0     10033    10033\n",
       "1.0           548        32       516         0    10033\n",
       "2.0           585        52       533         0     9485\n",
       "3.0           539        53       486         0     8900\n",
       "4.0           571        66       505         0     8361\n",
       "5.0           466        91       375         0     7790\n",
       "6.0           437        94       343         0     7324\n",
       "7.0           479        92       387         0     6887\n",
       "8.0           458       131       327         0     6408\n",
       "9.0           482       131       351         0     5950\n",
       "10.0          271       104       167         0     5468\n",
       "11.0          296        93       203         0     5197\n",
       "12.0          286        98       188         0     4901\n",
       "13.0          208        82       126         0     4615\n",
       "14.0          218        76       142         0     4407\n",
       "15.0          184        80       104         0     4189\n",
       "16.0          199        75       124         0     4005\n",
       "17.0          162        53       109         0     3806\n",
       "18.0          167        78        89         0     3644\n",
       "19.0          165        58       107         0     3477\n",
       "20.0          144        42       102         0     3312\n",
       "21.0          152        44       108         0     3168\n",
       "22.0          123        43        80         0     3016\n",
       "23.0          114        26        88         0     2893\n",
       "24.0          111        41        70         0     2779\n",
       "25.0          113        31        82         0     2668\n",
       "26.0           92        17        75         0     2555\n",
       "27.0          103        15        88         0     2463\n",
       "28.0          103        17        86         0     2360\n",
       "29.0          109        20        89         0     2257\n",
       "30.0          150        14       136         0     2148\n",
       "31.0          232        12       220         0     1998\n",
       "32.0          186         7       179         0     1766\n",
       "33.0          210        12       198         0     1580\n",
       "34.0          172         1       171         0     1370\n",
       "35.0          161         4       157         0     1198\n",
       "36.0          208         3       205         0     1037\n",
       "37.0          183         5       178         0      829\n",
       "38.0          166         4       162         0      646\n",
       "39.0          119         1       118         0      480\n",
       "40.0           74         0        74         0      361\n",
       "41.0           90         0        90         0      287\n",
       "42.0           77         0        77         0      197\n",
       "43.0           42         0        42         0      120\n",
       "44.0           36         0        36         0       78\n",
       "45.0           27         0        27         0       42\n",
       "46.0            7         0         7         0       15\n",
       "47.0            3         0         3         0        8\n",
       "48.0            3         0         3         0        5\n",
       "49.0            1         0         1         0        2\n",
       "60.0            1         0         1         0        1"
      ]
     },
     "execution_count": 47,
     "metadata": {},
     "output_type": "execute_result"
    }
   ],
   "source": [
    "frmla0.event_table"
   ]
  },
  {
   "cell_type": "code",
   "execution_count": 60,
   "metadata": {},
   "outputs": [
    {
     "name": "stdout",
     "output_type": "stream",
     "text": [
      "null_distribution =  chi squared\n",
      "degrees_of_freedom =  1\n",
      "p-value =  0.0005469259963766992\n",
      "test_statistic =  11.948458926657768\n"
     ]
    }
   ],
   "source": [
    "results0 = logrank_test(T0,T1,C0,C1)\n",
    "#results.print_summary()\n",
    "print('null_distribution = ', results0.null_distribution)\n",
    "print('degrees_of_freedom = ', results0.degrees_of_freedom)\n",
    "print('p-value = ', results0.p_value)      \n",
    "print('test_statistic = ', results0.test_statistic)"
   ]
  },
  {
   "cell_type": "code",
   "execution_count": 61,
   "metadata": {},
   "outputs": [
    {
     "name": "stdout",
     "output_type": "stream",
     "text": [
      "null_distribution =  chi squared\n",
      "degrees_of_freedom =  1\n",
      "p-value =  6.023741166806152e-09\n",
      "test_statistic =  33.826987812166145\n"
     ]
    }
   ],
   "source": [
    "results1 = logrank_test(T1,T2,C1,C2)\n",
    "#results.print_summary()\n",
    "print('null_distribution = ', results1.null_distribution)\n",
    "print('degrees_of_freedom = ', results1.degrees_of_freedom)\n",
    "print('p-value = ', results1.p_value)      \n",
    "print('test_statistic = ', results1.test_statistic)"
   ]
  },
  {
   "cell_type": "code",
   "execution_count": 62,
   "metadata": {},
   "outputs": [
    {
     "name": "stdout",
     "output_type": "stream",
     "text": [
      "null_distribution =  chi squared\n",
      "degrees_of_freedom =  1\n",
      "p-value =  5.945463881511855e-33\n",
      "test_statistic =  142.97733848999422\n"
     ]
    }
   ],
   "source": [
    "results2 = logrank_test(T2,T3,C2,C3)\n",
    "#results.print_summary()\n",
    "print('null_distribution = ', results2.null_distribution)\n",
    "print('degrees_of_freedom = ', results2.degrees_of_freedom)\n",
    "print('p-value = ', results2.p_value)      \n",
    "print('test_statistic = ', results2.test_statistic)"
   ]
  },
  {
   "cell_type": "code",
   "execution_count": 63,
   "metadata": {},
   "outputs": [
    {
     "name": "stdout",
     "output_type": "stream",
     "text": [
      "null_distribution =  chi squared\n",
      "degrees_of_freedom =  1\n",
      "p-value =  2.309126297853486e-85\n",
      "test_statistic =  383.35998675220543\n"
     ]
    }
   ],
   "source": [
    "results3 = logrank_test(T3,T4,C3,C4)\n",
    "#results.print_summary()\n",
    "print('null_distribution = ', results3.null_distribution)\n",
    "print('degrees_of_freedom = ', results3.degrees_of_freedom)\n",
    "print('p-value = ', results3.p_value)      \n",
    "print('test_statistic = ', results3.test_statistic)"
   ]
  },
  {
   "cell_type": "code",
   "execution_count": 64,
   "metadata": {},
   "outputs": [
    {
     "name": "stdout",
     "output_type": "stream",
     "text": [
      "null_distribution =  chi squared\n",
      "degrees_of_freedom =  1\n",
      "p-value =  0.0\n",
      "test_statistic =  98331.58451419503\n"
     ]
    }
   ],
   "source": [
    "resultsAll = logrank_test(lifetest2['time2'].values, lifetest2['default_time'].values)\n",
    "#results.print_summary()\n",
    "print('null_distribution = ', resultsAll.null_distribution)\n",
    "print('degrees_of_freedom = ', resultsAll.degrees_of_freedom)\n",
    "print('p-value = ', resultsAll.p_value)      \n",
    "print('test_statistic = ', resultsAll.test_statistic)"
   ]
  },
  {
   "cell_type": "code",
   "execution_count": 65,
   "metadata": {},
   "outputs": [
    {
     "name": "stdout",
     "output_type": "stream",
     "text": [
      "null_distribution =  chi squared\n",
      "degrees_of_freedom =  1\n",
      "p-value =  0.0\n",
      "test_statistic =  1500.9582220806353\n"
     ]
    }
   ],
   "source": [
    "results4 = logrank_test(T0,T4,C0,C4)\n",
    "#results.print_summary()\n",
    "print('null_distribution = ', results4.null_distribution)\n",
    "print('degrees_of_freedom = ', results4.degrees_of_freedom)\n",
    "print('p-value = ', results4.p_value)      \n",
    "print('test_statistic = ', results4.test_statistic)"
   ]
  },
  {
   "cell_type": "code",
   "execution_count": 135,
   "metadata": {
    "collapsed": true
   },
   "outputs": [
    {
     "data": {
      "text/plain": [
       "['__add__',\n",
       " '__class__',\n",
       " '__delattr__',\n",
       " '__dict__',\n",
       " '__dir__',\n",
       " '__doc__',\n",
       " '__eq__',\n",
       " '__format__',\n",
       " '__ge__',\n",
       " '__getattribute__',\n",
       " '__gt__',\n",
       " '__hash__',\n",
       " '__init__',\n",
       " '__le__',\n",
       " '__lt__',\n",
       " '__module__',\n",
       " '__ne__',\n",
       " '__new__',\n",
       " '__reduce__',\n",
       " '__reduce_ex__',\n",
       " '__repr__',\n",
       " '__setattr__',\n",
       " '__sizeof__',\n",
       " '__str__',\n",
       " '__subclasshook__',\n",
       " '__weakref__',\n",
       " '_kwargs',\n",
       " '_p_value',\n",
       " '_stringify_meta_data',\n",
       " '_test_statistic',\n",
       " '_to_string',\n",
       " 'degrees_of_freedom',\n",
       " 'name',\n",
       " 'null_distribution',\n",
       " 'p_value',\n",
       " 'print_summary',\n",
       " 'summary',\n",
       " 't_0',\n",
       " 'test_statistic']"
      ]
     },
     "execution_count": 135,
     "metadata": {},
     "output_type": "execute_result"
    }
   ],
   "source": [
    "dir(results4)"
   ]
  },
  {
   "cell_type": "code",
   "execution_count": 112,
   "metadata": {
    "collapsed": true
   },
   "outputs": [
    {
     "data": {
      "text/plain": [
       "['__annotations__',\n",
       " '__call__',\n",
       " '__class__',\n",
       " '__closure__',\n",
       " '__code__',\n",
       " '__defaults__',\n",
       " '__delattr__',\n",
       " '__dict__',\n",
       " '__dir__',\n",
       " '__doc__',\n",
       " '__eq__',\n",
       " '__format__',\n",
       " '__ge__',\n",
       " '__get__',\n",
       " '__getattribute__',\n",
       " '__globals__',\n",
       " '__gt__',\n",
       " '__hash__',\n",
       " '__init__',\n",
       " '__kwdefaults__',\n",
       " '__le__',\n",
       " '__lt__',\n",
       " '__module__',\n",
       " '__name__',\n",
       " '__ne__',\n",
       " '__new__',\n",
       " '__qualname__',\n",
       " '__reduce__',\n",
       " '__reduce_ex__',\n",
       " '__repr__',\n",
       " '__setattr__',\n",
       " '__sizeof__',\n",
       " '__str__',\n",
       " '__subclasshook__']"
      ]
     },
     "execution_count": 112,
     "metadata": {},
     "output_type": "execute_result"
    }
   ],
   "source": [
    "dir(logrank_test)"
   ]
  },
  {
   "cell_type": "code",
   "execution_count": 143,
   "metadata": {},
   "outputs": [],
   "source": [
    "def LogRank_Table (durations_A, durations_B, event_observed_A=None, event_observed_B=None, **kwargs):\n",
    "    event_times_A, event_times_B = (np.array(durations_A), np.array(durations_B))\n",
    "    if event_observed_A is None:\n",
    "        event_observed_A = np.ones(event_times_A.shape[0])\n",
    "    if event_observed_B is None:\n",
    "        event_observed_B = np.ones(event_times_B.shape[0])\n",
    "    event_times = np.r_[event_times_A, event_times_B]\n",
    "    groups = np.r_[np.zeros(event_times_A.shape[0], dtype=int), np.ones(event_times_B.shape[0], dtype=int)]\n",
    "    event_observed = np.r_[event_observed_A, event_observed_B]\n",
    "      \n",
    "    print(event_times)\n",
    "    print(groups)\n",
    "    print(event_observed)"
   ]
  },
  {
   "cell_type": "code",
   "execution_count": null,
   "metadata": {},
   "outputs": [],
   "source": []
  },
  {
   "cell_type": "code",
   "execution_count": null,
   "metadata": {},
   "outputs": [],
   "source": []
  },
  {
   "cell_type": "code",
   "execution_count": 48,
   "metadata": {},
   "outputs": [],
   "source": [
    "event_times_A, event_times_B = (np.array(T0), np.array(T1))"
   ]
  },
  {
   "cell_type": "code",
   "execution_count": 50,
   "metadata": {},
   "outputs": [],
   "source": [
    "event_observed_A = C0\n",
    "event_observed_B = C1\n",
    "\n",
    "if event_observed_A is None:\n",
    "    event_observed_A = np.ones(event_times_A.shape[0])\n",
    "if event_observed_B is None:\n",
    "    event_observed_B = np.ones(event_times_B.shape[0])"
   ]
  },
  {
   "cell_type": "code",
   "execution_count": 51,
   "metadata": {},
   "outputs": [],
   "source": [
    "event_times = np.r_[event_times_A, event_times_B]\n",
    "groups = np.r_[np.zeros(event_times_A.shape[0], dtype=int), np.ones(event_times_B.shape[0], dtype=int)]\n",
    "event_observed = np.r_[event_observed_A, event_observed_B]"
   ]
  },
  {
   "cell_type": "code",
   "execution_count": 68,
   "metadata": {},
   "outputs": [],
   "source": [
    "event_durations, groups = np.asarray(event_times), np.asarray(groups)"
   ]
  },
  {
   "cell_type": "code",
   "execution_count": 69,
   "metadata": {},
   "outputs": [],
   "source": [
    "if event_observed is None:\n",
    "    event_observed = np.ones((event_durations.shape[0], 1))\n",
    "else:\n",
    "    event_observed = np.asarray(event_observed)"
   ]
  },
  {
   "cell_type": "code",
   "execution_count": 70,
   "metadata": {},
   "outputs": [],
   "source": [
    "n = np.max(event_durations.shape)"
   ]
  },
  {
   "cell_type": "code",
   "execution_count": 71,
   "metadata": {},
   "outputs": [],
   "source": [
    "assert n == np.max(event_durations.shape) == np.max(event_observed.shape), \"inputs must be of the same length.\""
   ]
  },
  {
   "cell_type": "code",
   "execution_count": 72,
   "metadata": {},
   "outputs": [],
   "source": [
    "groups, event_durations, event_observed = map(lambda x: pd.Series(np.asarray(x).reshape(n)), [groups, event_durations, event_observed])"
   ]
  },
  {
   "cell_type": "code",
   "execution_count": 73,
   "metadata": {},
   "outputs": [
    {
     "ename": "NameError",
     "evalue": "name 'group_survival_table_from_events' is not defined",
     "traceback": [
      "\u001b[1;31m---------------------------------------------------------------------------\u001b[0m",
      "\u001b[1;31mNameError\u001b[0m                                 Traceback (most recent call last)",
      "\u001b[1;32m<ipython-input-73-7bc7127ac5ab>\u001b[0m in \u001b[0;36m<module>\u001b[1;34m()\u001b[0m\n\u001b[1;32m----> 1\u001b[1;33m \u001b[0munique_groups\u001b[0m\u001b[1;33m,\u001b[0m \u001b[0mrm\u001b[0m\u001b[1;33m,\u001b[0m \u001b[0mobs\u001b[0m\u001b[1;33m,\u001b[0m \u001b[0m_\u001b[0m \u001b[1;33m=\u001b[0m \u001b[0mgroup_survival_table_from_events\u001b[0m\u001b[1;33m(\u001b[0m\u001b[0mgroups\u001b[0m\u001b[1;33m,\u001b[0m \u001b[0mevent_durations\u001b[0m\u001b[1;33m,\u001b[0m \u001b[0mevent_observed\u001b[0m\u001b[1;33m,\u001b[0m \u001b[0mlimit\u001b[0m\u001b[1;33m=\u001b[0m\u001b[0mt_0\u001b[0m\u001b[1;33m)\u001b[0m\u001b[1;33m\u001b[0m\u001b[0m\n\u001b[0m",
      "\u001b[1;31mNameError\u001b[0m: name 'group_survival_table_from_events' is not defined"
     ],
     "output_type": "error"
    }
   ],
   "source": [
    "unique_groups, rm, obs, _ = group_survival_table_from_events(groups, event_durations, event_observed, limit=t_0)"
   ]
  },
  {
   "cell_type": "code",
   "execution_count": null,
   "metadata": {},
   "outputs": [],
   "source": [
    "n_groups = unique_groups.shape[0]"
   ]
  },
  {
   "cell_type": "code",
   "execution_count": null,
   "metadata": {},
   "outputs": [],
   "source": []
  },
  {
   "cell_type": "code",
   "execution_count": null,
   "metadata": {},
   "outputs": [],
   "source": [
    "    event_times_A, event_times_B = (np.array(durations_A), np.array(durations_B))\n",
    "    if event_observed_A is None:\n",
    "        event_observed_A = np.ones(event_times_A.shape[0])\n",
    "    if event_observed_B is None:\n",
    "        event_observed_B = np.ones(event_times_B.shape[0])\n",
    "\n",
    "    event_times = np.r_[event_times_A, event_times_B]\n",
    "    groups = np.r_[np.zeros(event_times_A.shape[0], dtype=int), np.ones(event_times_B.shape[0], dtype=int)]\n",
    "    event_observed = np.r_[event_observed_A, event_observed_B]\n",
    "    #return multivariate_logrank_test(event_times, groups, event_observed, t_0=t_0, **kwargs)\n",
    "\tdef multivariate_logrank_table(event_durations, groups, event_observed=None, t_0=-1, **kwargs):\n",
    "\t\n",
    "\t\tevent_durations, groups = np.asarray(event_durations), np.asarray(groups)\n",
    "\t\tif event_observed is None:\n",
    "\t\t\tevent_observed = np.ones((event_durations.shape[0], 1))\n",
    "\t\telse:\n",
    "\t\t\tevent_observed = np.asarray(event_observed)\n",
    "\n",
    "\t\tn = np.max(event_durations.shape)\n",
    "\t\tassert n == np.max(event_durations.shape) == np.max(event_observed.shape), \"inputs must be of the same length.\"\n",
    "\t\tgroups, event_durations, event_observed = map(\n",
    "\t\t\tlambda x: pd.Series(np.asarray(x).reshape(n)), [groups, event_durations, event_observed]\n",
    "\t\t)\n",
    "\n",
    "\t\tunique_groups, rm, obs, _ = group_survival_table_from_events(groups, event_durations, event_observed, limit=t_0)\n",
    "\t\tn_groups = unique_groups.shape[0]\n",
    "\n",
    "\t\t# compute the factors needed\n",
    "\t\tN_j = obs.sum(0).values\n",
    "\t\tn_ij = rm.sum(0).values - rm.cumsum(0).shift(1).fillna(0)\n",
    "\t\td_i = obs.sum(1)\n",
    "\t\tn_i = rm.values.sum() - rm.sum(1).cumsum().shift(1).fillna(0)\n",
    "\t\tev = n_ij.mul(d_i / n_i, axis=\"index\").sum(0)\n",
    "\n",
    "\t\t# vector of observed minus expected\n",
    "\t\tZ_j = N_j - ev\n",
    "\n",
    "\t\tassert abs(Z_j.sum()) < 10e-8, \"Sum is not zero.\"  # this should move to a test eventually.\n",
    "\n",
    "\t\t# compute covariance matrix\n",
    "\t\tfactor = (((n_i - d_i) / (n_i - 1)).replace([np.inf, np.nan], 1)) * d_i / n_i ** 2\n",
    "\t\tn_ij[\"_\"] = n_i.values\n",
    "\t\tV_ = n_ij.mul(np.sqrt(factor), axis=\"index\").fillna(0)\n",
    "\t\tV = -np.dot(V_.T, V_)\n",
    "\t\tix = np.arange(n_groups)\n",
    "\t\tV[ix, ix] = V[ix, ix] - V[-1, ix]\n",
    "\t\tV = V[:-1, :-1]\n",
    "\n",
    "\t\t# take the first n-1 groups\n",
    "\t\tU = Z_j.iloc[:-1].dot(np.linalg.pinv(V[:-1, :-1])).dot(Z_j.iloc[:-1])  #Z.T*inv(V)*Z"
   ]
  },
  {
   "cell_type": "code",
   "execution_count": 144,
   "metadata": {},
   "outputs": [
    {
     "name": "stdout",
     "output_type": "stream",
     "text": [
      "[ 2 36  3 ...  9  9  9]\n",
      "[0 0 0 ... 1 1 1]\n",
      "[0 0 0 ... 0 0 0]\n"
     ]
    }
   ],
   "source": [
    "results4Table = LogRank_Table(T0,T4,C0,C4)"
   ]
  },
  {
   "cell_type": "code",
   "execution_count": 85,
   "metadata": {},
   "outputs": [
    {
     "name": "stdout",
     "output_type": "stream",
     "text": [
      "<lifelines.StatisticalResult>\n",
      "               t_0 = -1\n",
      " null_distribution = chi squared\n",
      "degrees_of_freedom = 2\n",
      "\n",
      "---\n",
      "test_statistic    p  -log2(p)\n",
      "          1.08 0.58      0.78\n"
     ]
    }
   ],
   "source": [
    " df = pd.DataFrame({\n",
    "    'durations': [5, 3, 9, 8, 7, 4, 4, 3, 2, 5, 6, 7],\n",
    "    'events': [1, 1, 1, 1, 1, 1, 0, 0, 1, 1, 1, 0],\n",
    "    'groups': [0, 0, 0, 0, 1, 1, 1, 1, 1, 2, 2, 2]\n",
    " })\n",
    " result = multivariate_logrank_test(df['durations'], df['groups'], df['events'])\n",
    " result.test_statistic\n",
    " result.p_value\n",
    " result.print_summary()"
   ]
  },
  {
   "cell_type": "code",
   "execution_count": null,
   "metadata": {},
   "outputs": [],
   "source": []
  },
  {
   "cell_type": "code",
   "execution_count": 53,
   "metadata": {},
   "outputs": [
    {
     "data": {
      "text/plain": [
       "<function lifelines.statistics.multivariate_logrank_test(event_durations, groups, event_observed=None, t_0=-1, **kwargs)>"
      ]
     },
     "execution_count": 53,
     "metadata": {},
     "output_type": "execute_result"
    }
   ],
   "source": [
    "from lifelines.statistics import multivariate_logrank_test\n",
    "multivariate_logrank_test"
   ]
  },
  {
   "cell_type": "code",
   "execution_count": null,
   "metadata": {},
   "outputs": [],
   "source": [
    "f0 = lifetest2.FICO_orig_time_rank==0\n",
    "T0 = lifetest[f0]['time2'].values\n",
    "C0 = lifetest[f0]['default_time'].values"
   ]
  },
  {
   "cell_type": "code",
   "execution_count": 87,
   "metadata": {},
   "outputs": [],
   "source": [
    "fgh = multivariate_logrank_test(lifetest['time2'],lifetest2['FICO_orig_time_rank'],lifetest['default_time'])"
   ]
  },
  {
   "cell_type": "code",
   "execution_count": 88,
   "metadata": {},
   "outputs": [
    {
     "name": "stdout",
     "output_type": "stream",
     "text": [
      "<lifelines.StatisticalResult>\n",
      "               t_0 = -1\n",
      " null_distribution = chi squared\n",
      "degrees_of_freedom = 4\n",
      "\n",
      "---\n",
      "test_statistic      p  -log2(p)\n",
      "       1895.71 <0.005       inf\n"
     ]
    }
   ],
   "source": [
    "fgh.print_summary()"
   ]
  },
  {
   "cell_type": "code",
   "execution_count": null,
   "metadata": {},
   "outputs": [],
   "source": [
    "f0 = lifetest2.FICO_orig_time_rank==0\n",
    "T0 = lifetest2[f0]['time2'].values\n",
    "C0 = lifetest2[f0]['default_time'].values"
   ]
  },
  {
   "cell_type": "code",
   "execution_count": null,
   "metadata": {},
   "outputs": [],
   "source": [
    "# survdiff(formula = Surv(time2, default_time) ~ lifetest2$FICO_orig_time_rank,\n",
    "#         data = lifetest, rho = 0)"
   ]
  },
  {
   "cell_type": "code",
   "execution_count": 136,
   "metadata": {},
   "outputs": [],
   "source": [
    "# Creating the object\n",
    "frmla = kmf.fit(durations = lifetest2['time2'].values, \n",
    "        event_observed = lifetest2['default_time'].values)"
   ]
  },
  {
   "cell_type": "code",
   "execution_count": null,
   "metadata": {},
   "outputs": [],
   "source": [
    "# Call:\n",
    "# survdiff(formula = Surv(time2, default_time) ~ lifetest2$FICO_orig_time_rank, # data = lifetest, rho = 0)\n",
    "\n",
    "                                    # N Observed Expected (O-E)^2/E (O-E)^2/V\n",
    "# lifetest2$FICO_orig_time_rank=0  9922     3350     2320     456.9     557.3\n",
    "# lifetest2$FICO_orig_time_rank=1 10031     3539     2675     279.4     349.6\n",
    "# lifetest2$FICO_orig_time_rank=2 10022     3448     2984      72.3      92.6\n",
    "# lifetest2$FICO_orig_time_rank=3  9992     2919     3370      60.3      79.8\n",
    "# lifetest2$FICO_orig_time_rank=4 10033     1898     3806     956.4    1320.6\n",
    "\n",
    " # Chisq= 1896  on 4 degrees of freedom, p= <2e-16 \n",
    " "
   ]
  },
  {
   "cell_type": "code",
   "execution_count": 137,
   "metadata": {
    "collapsed": true
   },
   "outputs": [
    {
     "data": {
      "text/html": [
       "<div>\n",
       "<style scoped>\n",
       "    .dataframe tbody tr th:only-of-type {\n",
       "        vertical-align: middle;\n",
       "    }\n",
       "\n",
       "    .dataframe tbody tr th {\n",
       "        vertical-align: top;\n",
       "    }\n",
       "\n",
       "    .dataframe thead th {\n",
       "        text-align: right;\n",
       "    }\n",
       "</style>\n",
       "<table border=\"1\" class=\"dataframe\">\n",
       "  <thead>\n",
       "    <tr style=\"text-align: right;\">\n",
       "      <th></th>\n",
       "      <th>removed</th>\n",
       "      <th>observed</th>\n",
       "      <th>censored</th>\n",
       "      <th>entrance</th>\n",
       "      <th>at_risk</th>\n",
       "    </tr>\n",
       "    <tr>\n",
       "      <th>event_at</th>\n",
       "      <th></th>\n",
       "      <th></th>\n",
       "      <th></th>\n",
       "      <th></th>\n",
       "      <th></th>\n",
       "    </tr>\n",
       "  </thead>\n",
       "  <tbody>\n",
       "    <tr>\n",
       "      <th>0.0</th>\n",
       "      <td>0</td>\n",
       "      <td>0</td>\n",
       "      <td>0</td>\n",
       "      <td>50000</td>\n",
       "      <td>50000</td>\n",
       "    </tr>\n",
       "    <tr>\n",
       "      <th>1.0</th>\n",
       "      <td>3773</td>\n",
       "      <td>623</td>\n",
       "      <td>3150</td>\n",
       "      <td>0</td>\n",
       "      <td>50000</td>\n",
       "    </tr>\n",
       "    <tr>\n",
       "      <th>2.0</th>\n",
       "      <td>3992</td>\n",
       "      <td>892</td>\n",
       "      <td>3100</td>\n",
       "      <td>0</td>\n",
       "      <td>46227</td>\n",
       "    </tr>\n",
       "    <tr>\n",
       "      <th>3.0</th>\n",
       "      <td>3693</td>\n",
       "      <td>999</td>\n",
       "      <td>2694</td>\n",
       "      <td>0</td>\n",
       "      <td>42235</td>\n",
       "    </tr>\n",
       "    <tr>\n",
       "      <th>4.0</th>\n",
       "      <td>3557</td>\n",
       "      <td>965</td>\n",
       "      <td>2592</td>\n",
       "      <td>0</td>\n",
       "      <td>38542</td>\n",
       "    </tr>\n",
       "    <tr>\n",
       "      <th>5.0</th>\n",
       "      <td>2971</td>\n",
       "      <td>996</td>\n",
       "      <td>1975</td>\n",
       "      <td>0</td>\n",
       "      <td>34985</td>\n",
       "    </tr>\n",
       "    <tr>\n",
       "      <th>6.0</th>\n",
       "      <td>2768</td>\n",
       "      <td>953</td>\n",
       "      <td>1815</td>\n",
       "      <td>0</td>\n",
       "      <td>32014</td>\n",
       "    </tr>\n",
       "    <tr>\n",
       "      <th>7.0</th>\n",
       "      <td>3029</td>\n",
       "      <td>936</td>\n",
       "      <td>2093</td>\n",
       "      <td>0</td>\n",
       "      <td>29246</td>\n",
       "    </tr>\n",
       "    <tr>\n",
       "      <th>8.0</th>\n",
       "      <td>2583</td>\n",
       "      <td>985</td>\n",
       "      <td>1598</td>\n",
       "      <td>0</td>\n",
       "      <td>26217</td>\n",
       "    </tr>\n",
       "    <tr>\n",
       "      <th>9.0</th>\n",
       "      <td>3177</td>\n",
       "      <td>894</td>\n",
       "      <td>2283</td>\n",
       "      <td>0</td>\n",
       "      <td>23634</td>\n",
       "    </tr>\n",
       "    <tr>\n",
       "      <th>10.0</th>\n",
       "      <td>1444</td>\n",
       "      <td>766</td>\n",
       "      <td>678</td>\n",
       "      <td>0</td>\n",
       "      <td>20457</td>\n",
       "    </tr>\n",
       "    <tr>\n",
       "      <th>11.0</th>\n",
       "      <td>1370</td>\n",
       "      <td>695</td>\n",
       "      <td>675</td>\n",
       "      <td>0</td>\n",
       "      <td>19013</td>\n",
       "    </tr>\n",
       "    <tr>\n",
       "      <th>12.0</th>\n",
       "      <td>1191</td>\n",
       "      <td>606</td>\n",
       "      <td>585</td>\n",
       "      <td>0</td>\n",
       "      <td>17643</td>\n",
       "    </tr>\n",
       "    <tr>\n",
       "      <th>13.0</th>\n",
       "      <td>977</td>\n",
       "      <td>541</td>\n",
       "      <td>436</td>\n",
       "      <td>0</td>\n",
       "      <td>16452</td>\n",
       "    </tr>\n",
       "    <tr>\n",
       "      <th>14.0</th>\n",
       "      <td>890</td>\n",
       "      <td>501</td>\n",
       "      <td>389</td>\n",
       "      <td>0</td>\n",
       "      <td>15475</td>\n",
       "    </tr>\n",
       "    <tr>\n",
       "      <th>15.0</th>\n",
       "      <td>697</td>\n",
       "      <td>426</td>\n",
       "      <td>271</td>\n",
       "      <td>0</td>\n",
       "      <td>14585</td>\n",
       "    </tr>\n",
       "    <tr>\n",
       "      <th>16.0</th>\n",
       "      <td>682</td>\n",
       "      <td>391</td>\n",
       "      <td>291</td>\n",
       "      <td>0</td>\n",
       "      <td>13888</td>\n",
       "    </tr>\n",
       "    <tr>\n",
       "      <th>17.0</th>\n",
       "      <td>607</td>\n",
       "      <td>338</td>\n",
       "      <td>269</td>\n",
       "      <td>0</td>\n",
       "      <td>13206</td>\n",
       "    </tr>\n",
       "    <tr>\n",
       "      <th>18.0</th>\n",
       "      <td>597</td>\n",
       "      <td>317</td>\n",
       "      <td>280</td>\n",
       "      <td>0</td>\n",
       "      <td>12599</td>\n",
       "    </tr>\n",
       "    <tr>\n",
       "      <th>19.0</th>\n",
       "      <td>564</td>\n",
       "      <td>299</td>\n",
       "      <td>265</td>\n",
       "      <td>0</td>\n",
       "      <td>12002</td>\n",
       "    </tr>\n",
       "    <tr>\n",
       "      <th>20.0</th>\n",
       "      <td>530</td>\n",
       "      <td>279</td>\n",
       "      <td>251</td>\n",
       "      <td>0</td>\n",
       "      <td>11438</td>\n",
       "    </tr>\n",
       "    <tr>\n",
       "      <th>21.0</th>\n",
       "      <td>512</td>\n",
       "      <td>252</td>\n",
       "      <td>260</td>\n",
       "      <td>0</td>\n",
       "      <td>10908</td>\n",
       "    </tr>\n",
       "    <tr>\n",
       "      <th>22.0</th>\n",
       "      <td>397</td>\n",
       "      <td>214</td>\n",
       "      <td>183</td>\n",
       "      <td>0</td>\n",
       "      <td>10396</td>\n",
       "    </tr>\n",
       "    <tr>\n",
       "      <th>23.0</th>\n",
       "      <td>376</td>\n",
       "      <td>195</td>\n",
       "      <td>181</td>\n",
       "      <td>0</td>\n",
       "      <td>9999</td>\n",
       "    </tr>\n",
       "    <tr>\n",
       "      <th>24.0</th>\n",
       "      <td>326</td>\n",
       "      <td>166</td>\n",
       "      <td>160</td>\n",
       "      <td>0</td>\n",
       "      <td>9623</td>\n",
       "    </tr>\n",
       "    <tr>\n",
       "      <th>25.0</th>\n",
       "      <td>357</td>\n",
       "      <td>157</td>\n",
       "      <td>200</td>\n",
       "      <td>0</td>\n",
       "      <td>9297</td>\n",
       "    </tr>\n",
       "    <tr>\n",
       "      <th>26.0</th>\n",
       "      <td>320</td>\n",
       "      <td>121</td>\n",
       "      <td>199</td>\n",
       "      <td>0</td>\n",
       "      <td>8940</td>\n",
       "    </tr>\n",
       "    <tr>\n",
       "      <th>27.0</th>\n",
       "      <td>307</td>\n",
       "      <td>110</td>\n",
       "      <td>197</td>\n",
       "      <td>0</td>\n",
       "      <td>8620</td>\n",
       "    </tr>\n",
       "    <tr>\n",
       "      <th>28.0</th>\n",
       "      <td>260</td>\n",
       "      <td>84</td>\n",
       "      <td>176</td>\n",
       "      <td>0</td>\n",
       "      <td>8313</td>\n",
       "    </tr>\n",
       "    <tr>\n",
       "      <th>29.0</th>\n",
       "      <td>360</td>\n",
       "      <td>84</td>\n",
       "      <td>276</td>\n",
       "      <td>0</td>\n",
       "      <td>8053</td>\n",
       "    </tr>\n",
       "    <tr>\n",
       "      <th>30.0</th>\n",
       "      <td>494</td>\n",
       "      <td>83</td>\n",
       "      <td>411</td>\n",
       "      <td>0</td>\n",
       "      <td>7693</td>\n",
       "    </tr>\n",
       "    <tr>\n",
       "      <th>31.0</th>\n",
       "      <td>870</td>\n",
       "      <td>70</td>\n",
       "      <td>800</td>\n",
       "      <td>0</td>\n",
       "      <td>7199</td>\n",
       "    </tr>\n",
       "    <tr>\n",
       "      <th>32.0</th>\n",
       "      <td>738</td>\n",
       "      <td>53</td>\n",
       "      <td>685</td>\n",
       "      <td>0</td>\n",
       "      <td>6329</td>\n",
       "    </tr>\n",
       "    <tr>\n",
       "      <th>33.0</th>\n",
       "      <td>876</td>\n",
       "      <td>39</td>\n",
       "      <td>837</td>\n",
       "      <td>0</td>\n",
       "      <td>5591</td>\n",
       "    </tr>\n",
       "    <tr>\n",
       "      <th>34.0</th>\n",
       "      <td>675</td>\n",
       "      <td>22</td>\n",
       "      <td>653</td>\n",
       "      <td>0</td>\n",
       "      <td>4715</td>\n",
       "    </tr>\n",
       "    <tr>\n",
       "      <th>35.0</th>\n",
       "      <td>512</td>\n",
       "      <td>19</td>\n",
       "      <td>493</td>\n",
       "      <td>0</td>\n",
       "      <td>4040</td>\n",
       "    </tr>\n",
       "    <tr>\n",
       "      <th>36.0</th>\n",
       "      <td>782</td>\n",
       "      <td>26</td>\n",
       "      <td>756</td>\n",
       "      <td>0</td>\n",
       "      <td>3528</td>\n",
       "    </tr>\n",
       "    <tr>\n",
       "      <th>37.0</th>\n",
       "      <td>577</td>\n",
       "      <td>17</td>\n",
       "      <td>560</td>\n",
       "      <td>0</td>\n",
       "      <td>2746</td>\n",
       "    </tr>\n",
       "    <tr>\n",
       "      <th>38.0</th>\n",
       "      <td>435</td>\n",
       "      <td>10</td>\n",
       "      <td>425</td>\n",
       "      <td>0</td>\n",
       "      <td>2169</td>\n",
       "    </tr>\n",
       "    <tr>\n",
       "      <th>39.0</th>\n",
       "      <td>425</td>\n",
       "      <td>14</td>\n",
       "      <td>411</td>\n",
       "      <td>0</td>\n",
       "      <td>1734</td>\n",
       "    </tr>\n",
       "    <tr>\n",
       "      <th>40.0</th>\n",
       "      <td>304</td>\n",
       "      <td>4</td>\n",
       "      <td>300</td>\n",
       "      <td>0</td>\n",
       "      <td>1309</td>\n",
       "    </tr>\n",
       "    <tr>\n",
       "      <th>41.0</th>\n",
       "      <td>326</td>\n",
       "      <td>4</td>\n",
       "      <td>322</td>\n",
       "      <td>0</td>\n",
       "      <td>1005</td>\n",
       "    </tr>\n",
       "    <tr>\n",
       "      <th>42.0</th>\n",
       "      <td>232</td>\n",
       "      <td>3</td>\n",
       "      <td>229</td>\n",
       "      <td>0</td>\n",
       "      <td>679</td>\n",
       "    </tr>\n",
       "    <tr>\n",
       "      <th>43.0</th>\n",
       "      <td>202</td>\n",
       "      <td>1</td>\n",
       "      <td>201</td>\n",
       "      <td>0</td>\n",
       "      <td>447</td>\n",
       "    </tr>\n",
       "    <tr>\n",
       "      <th>44.0</th>\n",
       "      <td>111</td>\n",
       "      <td>4</td>\n",
       "      <td>107</td>\n",
       "      <td>0</td>\n",
       "      <td>245</td>\n",
       "    </tr>\n",
       "    <tr>\n",
       "      <th>45.0</th>\n",
       "      <td>74</td>\n",
       "      <td>0</td>\n",
       "      <td>74</td>\n",
       "      <td>0</td>\n",
       "      <td>134</td>\n",
       "    </tr>\n",
       "    <tr>\n",
       "      <th>46.0</th>\n",
       "      <td>20</td>\n",
       "      <td>0</td>\n",
       "      <td>20</td>\n",
       "      <td>0</td>\n",
       "      <td>60</td>\n",
       "    </tr>\n",
       "    <tr>\n",
       "      <th>47.0</th>\n",
       "      <td>15</td>\n",
       "      <td>0</td>\n",
       "      <td>15</td>\n",
       "      <td>0</td>\n",
       "      <td>40</td>\n",
       "    </tr>\n",
       "    <tr>\n",
       "      <th>48.0</th>\n",
       "      <td>8</td>\n",
       "      <td>0</td>\n",
       "      <td>8</td>\n",
       "      <td>0</td>\n",
       "      <td>25</td>\n",
       "    </tr>\n",
       "    <tr>\n",
       "      <th>49.0</th>\n",
       "      <td>10</td>\n",
       "      <td>0</td>\n",
       "      <td>10</td>\n",
       "      <td>0</td>\n",
       "      <td>17</td>\n",
       "    </tr>\n",
       "    <tr>\n",
       "      <th>50.0</th>\n",
       "      <td>3</td>\n",
       "      <td>0</td>\n",
       "      <td>3</td>\n",
       "      <td>0</td>\n",
       "      <td>7</td>\n",
       "    </tr>\n",
       "    <tr>\n",
       "      <th>51.0</th>\n",
       "      <td>3</td>\n",
       "      <td>0</td>\n",
       "      <td>3</td>\n",
       "      <td>0</td>\n",
       "      <td>4</td>\n",
       "    </tr>\n",
       "    <tr>\n",
       "      <th>60.0</th>\n",
       "      <td>1</td>\n",
       "      <td>0</td>\n",
       "      <td>1</td>\n",
       "      <td>0</td>\n",
       "      <td>1</td>\n",
       "    </tr>\n",
       "  </tbody>\n",
       "</table>\n",
       "</div>"
      ],
      "text/plain": [
       "          removed  observed  censored  entrance  at_risk\n",
       "event_at                                                \n",
       "0.0             0         0         0     50000    50000\n",
       "1.0          3773       623      3150         0    50000\n",
       "2.0          3992       892      3100         0    46227\n",
       "3.0          3693       999      2694         0    42235\n",
       "4.0          3557       965      2592         0    38542\n",
       "5.0          2971       996      1975         0    34985\n",
       "6.0          2768       953      1815         0    32014\n",
       "7.0          3029       936      2093         0    29246\n",
       "8.0          2583       985      1598         0    26217\n",
       "9.0          3177       894      2283         0    23634\n",
       "10.0         1444       766       678         0    20457\n",
       "11.0         1370       695       675         0    19013\n",
       "12.0         1191       606       585         0    17643\n",
       "13.0          977       541       436         0    16452\n",
       "14.0          890       501       389         0    15475\n",
       "15.0          697       426       271         0    14585\n",
       "16.0          682       391       291         0    13888\n",
       "17.0          607       338       269         0    13206\n",
       "18.0          597       317       280         0    12599\n",
       "19.0          564       299       265         0    12002\n",
       "20.0          530       279       251         0    11438\n",
       "21.0          512       252       260         0    10908\n",
       "22.0          397       214       183         0    10396\n",
       "23.0          376       195       181         0     9999\n",
       "24.0          326       166       160         0     9623\n",
       "25.0          357       157       200         0     9297\n",
       "26.0          320       121       199         0     8940\n",
       "27.0          307       110       197         0     8620\n",
       "28.0          260        84       176         0     8313\n",
       "29.0          360        84       276         0     8053\n",
       "30.0          494        83       411         0     7693\n",
       "31.0          870        70       800         0     7199\n",
       "32.0          738        53       685         0     6329\n",
       "33.0          876        39       837         0     5591\n",
       "34.0          675        22       653         0     4715\n",
       "35.0          512        19       493         0     4040\n",
       "36.0          782        26       756         0     3528\n",
       "37.0          577        17       560         0     2746\n",
       "38.0          435        10       425         0     2169\n",
       "39.0          425        14       411         0     1734\n",
       "40.0          304         4       300         0     1309\n",
       "41.0          326         4       322         0     1005\n",
       "42.0          232         3       229         0      679\n",
       "43.0          202         1       201         0      447\n",
       "44.0          111         4       107         0      245\n",
       "45.0           74         0        74         0      134\n",
       "46.0           20         0        20         0       60\n",
       "47.0           15         0        15         0       40\n",
       "48.0            8         0         8         0       25\n",
       "49.0           10         0        10         0       17\n",
       "50.0            3         0         3         0        7\n",
       "51.0            3         0         3         0        4\n",
       "60.0            1         0         1         0        1"
      ]
     },
     "execution_count": 137,
     "metadata": {},
     "output_type": "execute_result"
    }
   ],
   "source": [
    "frmla.event_table"
   ]
  },
  {
   "cell_type": "code",
   "execution_count": 67,
   "metadata": {},
   "outputs": [
    {
     "data": {
      "image/png": "[encoded data removed]",
      "text/plain": [
       "<Figure size 936x576 with 1 Axes>"
      ]
     },
     "metadata": {},
     "output_type": "display_data"
    }
   ],
   "source": [
    "# plot the KM estimates\n",
    "ax = plt.subplot(111)\n",
    "plt.rcParams[\"figure.figsize\"] = [13,8]\n",
    "\n",
    "kmf.fit(T0, event_observed=C0, label=['Rank 0'])\n",
    "kmf.survival_function_.plot(ax=ax)\n",
    "kmf.fit(T1, event_observed=C1, label=['Rank 1'])\n",
    "kmf.survival_function_.plot(ax=ax)\n",
    "kmf.fit(T2, event_observed=C2, label=['Rank 2'])\n",
    "kmf.survival_function_.plot(ax=ax)\n",
    "kmf.fit(T3, event_observed=C3, label=['Rank 3'])\n",
    "kmf.survival_function_.plot(ax=ax)\n",
    "kmf.fit(T4, event_observed=C4, label=['Rank 4'])\n",
    "kmf.survival_function_.plot(ax=ax)\n",
    "\n",
    "plt.title(\"The Kaplan-Meier Estimate for Test of Equality over Groups\")\n",
    "plt.ylabel(\"Probability\")\n",
    "plt.ylim(ymax = 1.1, ymin = 0)\n",
    "\n",
    "kmf2 = plt.gcf()"
   ]
  },
  {
   "cell_type": "code",
   "execution_count": 55,
   "metadata": {},
   "outputs": [
    {
     "data": {
      "text/plain": [
       "array([0., 1., 2., 3., 4.])"
      ]
     },
     "execution_count": 55,
     "metadata": {},
     "output_type": "execute_result"
    }
   ],
   "source": [
    "np.unique(lifetest2.FICO_orig_time_rank)"
   ]
  },
  {
   "cell_type": "code",
   "execution_count": 47,
   "metadata": {},
   "outputs": [],
   "source": [
    "# survdiff: Test Survival Curve Differences\n",
    "# survdiff(formula, data, subset, na.action, rho=0, timefix=TRUE)"
   ]
  },
  {
   "cell_type": "code",
   "execution_count": 48,
   "metadata": {},
   "outputs": [],
   "source": [
    "# survdiff(formula = Surv(time2, default_time) ~ lifetest2$FICO_orig_time_rank,\n",
    "#         data = lifetest, rho = 0)"
   ]
  },
  {
   "cell_type": "code",
   "execution_count": 49,
   "metadata": {},
   "outputs": [
    {
     "ename": "SyntaxError",
     "evalue": "invalid syntax (<ipython-input-49-3b2c9dfe176d>, line 3)",
     "traceback": [
      "\u001b[1;36m  File \u001b[1;32m\"<ipython-input-49-3b2c9dfe176d>\"\u001b[1;36m, line \u001b[1;32m3\u001b[0m\n\u001b[1;33m    survdiff(Surv(time, delta) ~ type)\u001b[0m\n\u001b[1;37m                               ^\u001b[0m\n\u001b[1;31mSyntaxError\u001b[0m\u001b[1;31m:\u001b[0m invalid syntax\n"
     ],
     "output_type": "error"
    }
   ],
   "source": [
    "# Testing difference in R \n",
    "%%R \n",
    "survdiff(Surv(time, delta) ~ type)\n",
    "Call:\n",
    "survdiff(formula = Surv(time, delta) ~ type)\n",
    "\n",
    "        N Observed Expected (O-E)^2/E (O-E)^2/V\n",
    "type=1 52       31     36.6     0.843      2.79\n",
    "type=2 28       22     16.4     1.873      2.79\n",
    "\n",
    " Chisq= 2.8  on 1 degrees of freedom, p= 0.0949 "
   ]
  },
  {
   "cell_type": "code",
   "execution_count": 50,
   "metadata": {},
   "outputs": [
    {
     "ename": "SyntaxError",
     "evalue": "Missing parentheses in call to 'print' (<ipython-input-50-a03e0e544f2f>, line 5)",
     "traceback": [
      "\u001b[1;36m  File \u001b[1;32m\"<ipython-input-50-a03e0e544f2f>\"\u001b[1;36m, line \u001b[1;32m5\u001b[0m\n\u001b[1;33m    print summary_\u001b[0m\n\u001b[1;37m                 ^\u001b[0m\n\u001b[1;31mSyntaxError\u001b[0m\u001b[1;31m:\u001b[0m Missing parentheses in call to 'print'\n"
     ],
     "output_type": "error"
    }
   ],
   "source": [
    "# Testing difference in Python\n",
    "from lifelines.statistics import logrank_test\n",
    "summary_= logrank_test(T, T2, C, C2, alpha=99)\n",
    "\n",
    "print summary_\n",
    "\n",
    "<lifelines.StatisticalResult: \n",
    "Results\n",
    "   df: 1\n",
    "   alpha: 99\n",
    "   t 0: -1\n",
    "   test: logrank\n",
    "   null distribution: chi squared\n",
    "\n",
    "   __ p-value ___|__ test statistic __|____ test result ____|__ is significant __\n",
    "         0.09487 |              2.790 |  Cannot Reject Null |       False       \n",
    ">\n"
   ]
  },
  {
   "cell_type": "code",
   "execution_count": null,
   "metadata": {},
   "outputs": [],
   "source": [
    "summary_= logrank_test(T, T2, C, C2, alpha=99)\n",
    "print summary_"
   ]
  },
  {
   "cell_type": "code",
   "execution_count": 53,
   "metadata": {},
   "outputs": [],
   "source": [
    "from lifelines.statistics import logrank_test\n",
    "logrank_test??"
   ]
  },
  {
   "cell_type": "code",
   "execution_count": 148,
   "metadata": {
    "collapsed": true
   },
   "outputs": [
    {
     "data": {
      "text/plain": [
       "['__annotations__',\n",
       " '__call__',\n",
       " '__class__',\n",
       " '__closure__',\n",
       " '__code__',\n",
       " '__defaults__',\n",
       " '__delattr__',\n",
       " '__dict__',\n",
       " '__dir__',\n",
       " '__doc__',\n",
       " '__eq__',\n",
       " '__format__',\n",
       " '__ge__',\n",
       " '__get__',\n",
       " '__getattribute__',\n",
       " '__globals__',\n",
       " '__gt__',\n",
       " '__hash__',\n",
       " '__init__',\n",
       " '__kwdefaults__',\n",
       " '__le__',\n",
       " '__lt__',\n",
       " '__module__',\n",
       " '__name__',\n",
       " '__ne__',\n",
       " '__new__',\n",
       " '__qualname__',\n",
       " '__reduce__',\n",
       " '__reduce_ex__',\n",
       " '__repr__',\n",
       " '__setattr__',\n",
       " '__sizeof__',\n",
       " '__str__',\n",
       " '__subclasshook__']"
      ]
     },
     "execution_count": 148,
     "metadata": {},
     "output_type": "execute_result"
    }
   ],
   "source": [
    "dir(logrank_test)"
   ]
  },
  {
   "cell_type": "code",
   "execution_count": 151,
   "metadata": {
    "collapsed": true
   },
   "outputs": [
    {
     "data": {
      "text/plain": [
       "['KaplanMeierFitter',\n",
       " 'StatisticalResult',\n",
       " 'TimeTransformers',\n",
       " '__all__',\n",
       " '__builtins__',\n",
       " '__cached__',\n",
       " '__doc__',\n",
       " '__file__',\n",
       " '__loader__',\n",
       " '__name__',\n",
       " '__package__',\n",
       " '__spec__',\n",
       " '_to_array',\n",
       " '_to_list',\n",
       " 'chisq_test',\n",
       " 'combinations',\n",
       " 'dataframe_interpolate_at_times',\n",
       " 'format_floats',\n",
       " 'format_p_value',\n",
       " 'group_survival_table_from_events',\n",
       " 'logrank_test',\n",
       " 'multivariate_logrank_test',\n",
       " 'np',\n",
       " 'pairwise_logrank_test',\n",
       " 'pd',\n",
       " 'power_under_cph',\n",
       " 'print_function',\n",
       " 'proportional_hazard_test',\n",
       " 'sample_size_necessary_under_cph',\n",
       " 'stats',\n",
       " 'string_justify',\n",
       " 'survival_difference_at_fixed_point_in_time_test',\n",
       " 'two_sided_z_test']"
      ]
     },
     "execution_count": 151,
     "metadata": {},
     "output_type": "execute_result"
    }
   ],
   "source": [
    "dir(ll.statistics)"
   ]
  },
  {
   "cell_type": "code",
   "execution_count": 149,
   "metadata": {},
   "outputs": [],
   "source": [
    "from inspect import getsource"
   ]
  },
  {
   "cell_type": "code",
   "execution_count": null,
   "metadata": {},
   "outputs": [],
   "source": [
    "getsource"
   ]
  },
  {
   "cell_type": "code",
   "execution_count": null,
   "metadata": {},
   "outputs": [],
   "source": []
  },
  {
   "cell_type": "code",
   "execution_count": 152,
   "metadata": {},
   "outputs": [],
   "source": [
    "from lifelines.statistics import multivariate_logrank_test\n",
    "multivariate_logrank_test??"
   ]
  },
  {
   "cell_type": "code",
   "execution_count": 147,
   "metadata": {},
   "outputs": [
    {
     "data": {
      "text/plain": [
       "['AalenAdditiveFitter',\n",
       " 'AalenJohansenFitter',\n",
       " 'BreslowFlemingHarringtonFitter',\n",
       " 'CoxPHFitter',\n",
       " 'CoxTimeVaryingFitter',\n",
       " 'ExponentialFitter',\n",
       " 'KaplanMeierFitter',\n",
       " 'LogLogisticAFTFitter',\n",
       " 'LogLogisticFitter',\n",
       " 'LogNormalAFTFitter',\n",
       " 'LogNormalFitter',\n",
       " 'NelsonAalenFitter',\n",
       " 'PiecewiseExponentialFitter',\n",
       " 'WeibullAFTFitter',\n",
       " 'WeibullFitter',\n",
       " '__all__',\n",
       " '__builtins__',\n",
       " '__cached__',\n",
       " '__doc__',\n",
       " '__file__',\n",
       " '__loader__',\n",
       " '__name__',\n",
       " '__package__',\n",
       " '__path__',\n",
       " '__spec__',\n",
       " '__version__',\n",
       " 'compat',\n",
       " 'fitters',\n",
       " 'plotting',\n",
       " 'statistics',\n",
       " 'utils',\n",
       " 'version']"
      ]
     },
     "execution_count": 147,
     "metadata": {},
     "output_type": "execute_result"
    }
   ],
   "source": [
    "dir(ll)"
   ]
  },
  {
   "cell_type": "markdown",
   "metadata": {},
   "source": [
    "**Exhibit 7.10a**"
   ]
  },
  {
   "cell_type": "code",
   "execution_count": 59,
   "metadata": {},
   "outputs": [
    {
     "data": {
      "text/plain": [
       "Index(['id', 'time', 'orig_time', 'first_time', 'mat_time', 'balance_time',\n",
       "       'LTV_time', 'interest_rate_time', 'hpi_time', 'gdp_time', 'uer_time',\n",
       "       'REtype_CO_orig_time', 'REtype_PU_orig_time', 'REtype_SF_orig_time',\n",
       "       'investor_orig_time', 'balance_orig_time', 'FICO_orig_time',\n",
       "       'LTV_orig_time', 'Interest_Rate_orig_time', 'hpi_orig_time',\n",
       "       'default_time', 'payoff_time', 'status_time', 'time2', 'indicator',\n",
       "       'FICO_orig_time_rank'],\n",
       "      dtype='object')"
      ]
     },
     "execution_count": 59,
     "metadata": {},
     "output_type": "execute_result"
    }
   ],
   "source": [
    "lifetest2.columns"
   ]
  },
  {
   "cell_type": "code",
   "execution_count": 60,
   "metadata": {
    "scrolled": true
   },
   "outputs": [
    {
     "data": {
      "text/html": [
       "<div>\n",
       "<style scoped>\n",
       "    .dataframe tbody tr th:only-of-type {\n",
       "        vertical-align: middle;\n",
       "    }\n",
       "\n",
       "    .dataframe tbody tr th {\n",
       "        vertical-align: top;\n",
       "    }\n",
       "\n",
       "    .dataframe thead th {\n",
       "        text-align: right;\n",
       "    }\n",
       "</style>\n",
       "<table border=\"1\" class=\"dataframe\">\n",
       "  <thead>\n",
       "    <tr style=\"text-align: right;\">\n",
       "      <th></th>\n",
       "      <th>time2</th>\n",
       "      <th>default_time</th>\n",
       "      <th>FICO_orig_time</th>\n",
       "      <th>LTV_orig_time</th>\n",
       "    </tr>\n",
       "  </thead>\n",
       "  <tbody>\n",
       "    <tr>\n",
       "      <th>23</th>\n",
       "      <td>24</td>\n",
       "      <td>1</td>\n",
       "      <td>715</td>\n",
       "      <td>69.4</td>\n",
       "    </tr>\n",
       "    <tr>\n",
       "      <th>25</th>\n",
       "      <td>2</td>\n",
       "      <td>0</td>\n",
       "      <td>558</td>\n",
       "      <td>80.0</td>\n",
       "    </tr>\n",
       "    <tr>\n",
       "      <th>30</th>\n",
       "      <td>5</td>\n",
       "      <td>0</td>\n",
       "      <td>680</td>\n",
       "      <td>83.6</td>\n",
       "    </tr>\n",
       "    <tr>\n",
       "      <th>65</th>\n",
       "      <td>36</td>\n",
       "      <td>0</td>\n",
       "      <td>587</td>\n",
       "      <td>81.8</td>\n",
       "    </tr>\n",
       "    <tr>\n",
       "      <th>68</th>\n",
       "      <td>3</td>\n",
       "      <td>0</td>\n",
       "      <td>527</td>\n",
       "      <td>80.0</td>\n",
       "    </tr>\n",
       "    <tr>\n",
       "      <th>99</th>\n",
       "      <td>32</td>\n",
       "      <td>1</td>\n",
       "      <td>670</td>\n",
       "      <td>80.0</td>\n",
       "    </tr>\n",
       "    <tr>\n",
       "      <th>101</th>\n",
       "      <td>2</td>\n",
       "      <td>0</td>\n",
       "      <td>601</td>\n",
       "      <td>95.0</td>\n",
       "    </tr>\n",
       "    <tr>\n",
       "      <th>102</th>\n",
       "      <td>1</td>\n",
       "      <td>0</td>\n",
       "      <td>663</td>\n",
       "      <td>90.0</td>\n",
       "    </tr>\n",
       "    <tr>\n",
       "      <th>115</th>\n",
       "      <td>13</td>\n",
       "      <td>1</td>\n",
       "      <td>501</td>\n",
       "      <td>80.0</td>\n",
       "    </tr>\n",
       "    <tr>\n",
       "      <th>120</th>\n",
       "      <td>5</td>\n",
       "      <td>1</td>\n",
       "      <td>665</td>\n",
       "      <td>80.0</td>\n",
       "    </tr>\n",
       "    <tr>\n",
       "      <th>123</th>\n",
       "      <td>3</td>\n",
       "      <td>0</td>\n",
       "      <td>564</td>\n",
       "      <td>95.0</td>\n",
       "    </tr>\n",
       "    <tr>\n",
       "      <th>126</th>\n",
       "      <td>3</td>\n",
       "      <td>0</td>\n",
       "      <td>583</td>\n",
       "      <td>80.0</td>\n",
       "    </tr>\n",
       "    <tr>\n",
       "      <th>129</th>\n",
       "      <td>3</td>\n",
       "      <td>0</td>\n",
       "      <td>635</td>\n",
       "      <td>80.0</td>\n",
       "    </tr>\n",
       "    <tr>\n",
       "      <th>132</th>\n",
       "      <td>3</td>\n",
       "      <td>0</td>\n",
       "      <td>506</td>\n",
       "      <td>80.0</td>\n",
       "    </tr>\n",
       "    <tr>\n",
       "      <th>136</th>\n",
       "      <td>4</td>\n",
       "      <td>0</td>\n",
       "      <td>561</td>\n",
       "      <td>95.0</td>\n",
       "    </tr>\n",
       "    <tr>\n",
       "      <th>146</th>\n",
       "      <td>10</td>\n",
       "      <td>1</td>\n",
       "      <td>572</td>\n",
       "      <td>70.0</td>\n",
       "    </tr>\n",
       "    <tr>\n",
       "      <th>149</th>\n",
       "      <td>3</td>\n",
       "      <td>0</td>\n",
       "      <td>608</td>\n",
       "      <td>80.0</td>\n",
       "    </tr>\n",
       "    <tr>\n",
       "      <th>159</th>\n",
       "      <td>10</td>\n",
       "      <td>1</td>\n",
       "      <td>571</td>\n",
       "      <td>95.0</td>\n",
       "    </tr>\n",
       "    <tr>\n",
       "      <th>163</th>\n",
       "      <td>4</td>\n",
       "      <td>1</td>\n",
       "      <td>630</td>\n",
       "      <td>80.0</td>\n",
       "    </tr>\n",
       "    <tr>\n",
       "      <th>166</th>\n",
       "      <td>3</td>\n",
       "      <td>0</td>\n",
       "      <td>647</td>\n",
       "      <td>85.0</td>\n",
       "    </tr>\n",
       "    <tr>\n",
       "      <th>170</th>\n",
       "      <td>4</td>\n",
       "      <td>0</td>\n",
       "      <td>614</td>\n",
       "      <td>79.8</td>\n",
       "    </tr>\n",
       "    <tr>\n",
       "      <th>175</th>\n",
       "      <td>5</td>\n",
       "      <td>1</td>\n",
       "      <td>582</td>\n",
       "      <td>75.0</td>\n",
       "    </tr>\n",
       "    <tr>\n",
       "      <th>176</th>\n",
       "      <td>1</td>\n",
       "      <td>0</td>\n",
       "      <td>550</td>\n",
       "      <td>65.0</td>\n",
       "    </tr>\n",
       "    <tr>\n",
       "      <th>184</th>\n",
       "      <td>8</td>\n",
       "      <td>1</td>\n",
       "      <td>615</td>\n",
       "      <td>85.0</td>\n",
       "    </tr>\n",
       "    <tr>\n",
       "      <th>188</th>\n",
       "      <td>4</td>\n",
       "      <td>1</td>\n",
       "      <td>557</td>\n",
       "      <td>80.0</td>\n",
       "    </tr>\n",
       "    <tr>\n",
       "      <th>221</th>\n",
       "      <td>34</td>\n",
       "      <td>0</td>\n",
       "      <td>630</td>\n",
       "      <td>75.0</td>\n",
       "    </tr>\n",
       "    <tr>\n",
       "      <th>224</th>\n",
       "      <td>3</td>\n",
       "      <td>0</td>\n",
       "      <td>641</td>\n",
       "      <td>80.0</td>\n",
       "    </tr>\n",
       "    <tr>\n",
       "      <th>259</th>\n",
       "      <td>36</td>\n",
       "      <td>0</td>\n",
       "      <td>575</td>\n",
       "      <td>85.0</td>\n",
       "    </tr>\n",
       "    <tr>\n",
       "      <th>268</th>\n",
       "      <td>9</td>\n",
       "      <td>1</td>\n",
       "      <td>696</td>\n",
       "      <td>80.0</td>\n",
       "    </tr>\n",
       "    <tr>\n",
       "      <th>272</th>\n",
       "      <td>4</td>\n",
       "      <td>0</td>\n",
       "      <td>633</td>\n",
       "      <td>80.0</td>\n",
       "    </tr>\n",
       "    <tr>\n",
       "      <th>...</th>\n",
       "      <td>...</td>\n",
       "      <td>...</td>\n",
       "      <td>...</td>\n",
       "      <td>...</td>\n",
       "    </tr>\n",
       "    <tr>\n",
       "      <th>622245</th>\n",
       "      <td>9</td>\n",
       "      <td>0</td>\n",
       "      <td>654</td>\n",
       "      <td>75.0</td>\n",
       "    </tr>\n",
       "    <tr>\n",
       "      <th>622250</th>\n",
       "      <td>5</td>\n",
       "      <td>1</td>\n",
       "      <td>708</td>\n",
       "      <td>79.8</td>\n",
       "    </tr>\n",
       "    <tr>\n",
       "      <th>622259</th>\n",
       "      <td>9</td>\n",
       "      <td>0</td>\n",
       "      <td>687</td>\n",
       "      <td>57.3</td>\n",
       "    </tr>\n",
       "    <tr>\n",
       "      <th>622268</th>\n",
       "      <td>9</td>\n",
       "      <td>0</td>\n",
       "      <td>623</td>\n",
       "      <td>74.8</td>\n",
       "    </tr>\n",
       "    <tr>\n",
       "      <th>622277</th>\n",
       "      <td>9</td>\n",
       "      <td>0</td>\n",
       "      <td>742</td>\n",
       "      <td>80.0</td>\n",
       "    </tr>\n",
       "    <tr>\n",
       "      <th>622286</th>\n",
       "      <td>9</td>\n",
       "      <td>0</td>\n",
       "      <td>681</td>\n",
       "      <td>80.0</td>\n",
       "    </tr>\n",
       "    <tr>\n",
       "      <th>622295</th>\n",
       "      <td>9</td>\n",
       "      <td>0</td>\n",
       "      <td>681</td>\n",
       "      <td>80.0</td>\n",
       "    </tr>\n",
       "    <tr>\n",
       "      <th>622304</th>\n",
       "      <td>9</td>\n",
       "      <td>0</td>\n",
       "      <td>709</td>\n",
       "      <td>70.0</td>\n",
       "    </tr>\n",
       "    <tr>\n",
       "      <th>622313</th>\n",
       "      <td>9</td>\n",
       "      <td>0</td>\n",
       "      <td>626</td>\n",
       "      <td>79.9</td>\n",
       "    </tr>\n",
       "    <tr>\n",
       "      <th>622322</th>\n",
       "      <td>9</td>\n",
       "      <td>0</td>\n",
       "      <td>690</td>\n",
       "      <td>75.4</td>\n",
       "    </tr>\n",
       "    <tr>\n",
       "      <th>622331</th>\n",
       "      <td>9</td>\n",
       "      <td>0</td>\n",
       "      <td>734</td>\n",
       "      <td>79.1</td>\n",
       "    </tr>\n",
       "    <tr>\n",
       "      <th>622340</th>\n",
       "      <td>9</td>\n",
       "      <td>0</td>\n",
       "      <td>657</td>\n",
       "      <td>77.2</td>\n",
       "    </tr>\n",
       "    <tr>\n",
       "      <th>622345</th>\n",
       "      <td>5</td>\n",
       "      <td>0</td>\n",
       "      <td>665</td>\n",
       "      <td>74.8</td>\n",
       "    </tr>\n",
       "    <tr>\n",
       "      <th>622349</th>\n",
       "      <td>4</td>\n",
       "      <td>0</td>\n",
       "      <td>588</td>\n",
       "      <td>62.0</td>\n",
       "    </tr>\n",
       "    <tr>\n",
       "      <th>622358</th>\n",
       "      <td>9</td>\n",
       "      <td>0</td>\n",
       "      <td>624</td>\n",
       "      <td>95.0</td>\n",
       "    </tr>\n",
       "    <tr>\n",
       "      <th>622367</th>\n",
       "      <td>9</td>\n",
       "      <td>0</td>\n",
       "      <td>577</td>\n",
       "      <td>95.0</td>\n",
       "    </tr>\n",
       "    <tr>\n",
       "      <th>622376</th>\n",
       "      <td>9</td>\n",
       "      <td>0</td>\n",
       "      <td>599</td>\n",
       "      <td>90.0</td>\n",
       "    </tr>\n",
       "    <tr>\n",
       "      <th>622384</th>\n",
       "      <td>9</td>\n",
       "      <td>0</td>\n",
       "      <td>762</td>\n",
       "      <td>62.9</td>\n",
       "    </tr>\n",
       "    <tr>\n",
       "      <th>622392</th>\n",
       "      <td>9</td>\n",
       "      <td>0</td>\n",
       "      <td>778</td>\n",
       "      <td>70.0</td>\n",
       "    </tr>\n",
       "    <tr>\n",
       "      <th>622400</th>\n",
       "      <td>9</td>\n",
       "      <td>0</td>\n",
       "      <td>775</td>\n",
       "      <td>80.0</td>\n",
       "    </tr>\n",
       "    <tr>\n",
       "      <th>622408</th>\n",
       "      <td>9</td>\n",
       "      <td>0</td>\n",
       "      <td>785</td>\n",
       "      <td>80.0</td>\n",
       "    </tr>\n",
       "    <tr>\n",
       "      <th>622416</th>\n",
       "      <td>9</td>\n",
       "      <td>0</td>\n",
       "      <td>725</td>\n",
       "      <td>80.0</td>\n",
       "    </tr>\n",
       "    <tr>\n",
       "      <th>622425</th>\n",
       "      <td>9</td>\n",
       "      <td>0</td>\n",
       "      <td>703</td>\n",
       "      <td>80.0</td>\n",
       "    </tr>\n",
       "    <tr>\n",
       "      <th>622434</th>\n",
       "      <td>9</td>\n",
       "      <td>0</td>\n",
       "      <td>714</td>\n",
       "      <td>75.0</td>\n",
       "    </tr>\n",
       "    <tr>\n",
       "      <th>622443</th>\n",
       "      <td>9</td>\n",
       "      <td>0</td>\n",
       "      <td>721</td>\n",
       "      <td>68.6</td>\n",
       "    </tr>\n",
       "    <tr>\n",
       "      <th>622452</th>\n",
       "      <td>9</td>\n",
       "      <td>0</td>\n",
       "      <td>688</td>\n",
       "      <td>71.9</td>\n",
       "    </tr>\n",
       "    <tr>\n",
       "      <th>622461</th>\n",
       "      <td>9</td>\n",
       "      <td>0</td>\n",
       "      <td>692</td>\n",
       "      <td>75.0</td>\n",
       "    </tr>\n",
       "    <tr>\n",
       "      <th>622470</th>\n",
       "      <td>9</td>\n",
       "      <td>0</td>\n",
       "      <td>750</td>\n",
       "      <td>88.0</td>\n",
       "    </tr>\n",
       "    <tr>\n",
       "      <th>622479</th>\n",
       "      <td>9</td>\n",
       "      <td>0</td>\n",
       "      <td>779</td>\n",
       "      <td>60.0</td>\n",
       "    </tr>\n",
       "    <tr>\n",
       "      <th>622488</th>\n",
       "      <td>9</td>\n",
       "      <td>0</td>\n",
       "      <td>653</td>\n",
       "      <td>80.0</td>\n",
       "    </tr>\n",
       "  </tbody>\n",
       "</table>\n",
       "<p>50000 rows × 4 columns</p>\n",
       "</div>"
      ],
      "text/plain": [
       "        time2  default_time  FICO_orig_time  LTV_orig_time\n",
       "23         24             1             715           69.4\n",
       "25          2             0             558           80.0\n",
       "30          5             0             680           83.6\n",
       "65         36             0             587           81.8\n",
       "68          3             0             527           80.0\n",
       "99         32             1             670           80.0\n",
       "101         2             0             601           95.0\n",
       "102         1             0             663           90.0\n",
       "115        13             1             501           80.0\n",
       "120         5             1             665           80.0\n",
       "123         3             0             564           95.0\n",
       "126         3             0             583           80.0\n",
       "129         3             0             635           80.0\n",
       "132         3             0             506           80.0\n",
       "136         4             0             561           95.0\n",
       "146        10             1             572           70.0\n",
       "149         3             0             608           80.0\n",
       "159        10             1             571           95.0\n",
       "163         4             1             630           80.0\n",
       "166         3             0             647           85.0\n",
       "170         4             0             614           79.8\n",
       "175         5             1             582           75.0\n",
       "176         1             0             550           65.0\n",
       "184         8             1             615           85.0\n",
       "188         4             1             557           80.0\n",
       "221        34             0             630           75.0\n",
       "224         3             0             641           80.0\n",
       "259        36             0             575           85.0\n",
       "268         9             1             696           80.0\n",
       "272         4             0             633           80.0\n",
       "...       ...           ...             ...            ...\n",
       "622245      9             0             654           75.0\n",
       "622250      5             1             708           79.8\n",
       "622259      9             0             687           57.3\n",
       "622268      9             0             623           74.8\n",
       "622277      9             0             742           80.0\n",
       "622286      9             0             681           80.0\n",
       "622295      9             0             681           80.0\n",
       "622304      9             0             709           70.0\n",
       "622313      9             0             626           79.9\n",
       "622322      9             0             690           75.4\n",
       "622331      9             0             734           79.1\n",
       "622340      9             0             657           77.2\n",
       "622345      5             0             665           74.8\n",
       "622349      4             0             588           62.0\n",
       "622358      9             0             624           95.0\n",
       "622367      9             0             577           95.0\n",
       "622376      9             0             599           90.0\n",
       "622384      9             0             762           62.9\n",
       "622392      9             0             778           70.0\n",
       "622400      9             0             775           80.0\n",
       "622408      9             0             785           80.0\n",
       "622416      9             0             725           80.0\n",
       "622425      9             0             703           80.0\n",
       "622434      9             0             714           75.0\n",
       "622443      9             0             721           68.6\n",
       "622452      9             0             688           71.9\n",
       "622461      9             0             692           75.0\n",
       "622470      9             0             750           88.0\n",
       "622479      9             0             779           60.0\n",
       "622488      9             0             653           80.0\n",
       "\n",
       "[50000 rows x 4 columns]"
      ]
     },
     "execution_count": 60,
     "metadata": {},
     "output_type": "execute_result"
    }
   ],
   "source": [
    "lifetestb = lifetest2[['time2','default_time','FICO_orig_time','LTV_orig_time']]\n",
    "lifetestb"
   ]
  },
  {
   "cell_type": "markdown",
   "metadata": {},
   "source": [
    "Setting *rho = 1* is Peto & Peto modification of the Gehan-Wilcoxon test"
   ]
  },
  {
   "cell_type": "code",
   "execution_count": 61,
   "metadata": {},
   "outputs": [
    {
     "ename": "SyntaxError",
     "evalue": "invalid syntax (<ipython-input-61-4dc5874d2354>, line 3)",
     "traceback": [
      "\u001b[1;36m  File \u001b[1;32m\"<ipython-input-61-4dc5874d2354>\"\u001b[1;36m, line \u001b[1;32m3\u001b[0m\n\u001b[1;33m    survdiff(formula = Surv(time2, default_time) ~ lifetest2$FICO_orig_time_rank, data = lifetest, rho = 1)\u001b[0m\n\u001b[1;37m                                                 ^\u001b[0m\n\u001b[1;31mSyntaxError\u001b[0m\u001b[1;31m:\u001b[0m invalid syntax\n"
     ],
     "output_type": "error"
    }
   ],
   "source": [
    " # Setting *rho = 1* is Peto & Peto modification of the Gehan-Wilcoxon test\n",
    " ## ----Peto & Peto modification of the Gehan-Wilcoxon test-----------------\n",
    " survdiff(formula = Surv(time2, default_time) ~ lifetest2$FICO_orig_time_rank, data = lifetest, rho = 1)\n",
    "# Call:\n",
    "# survdiff(formula = Surv(time2, default_time) ~ lifetest2$FICO_orig_time_rank, \n",
    "    # data = lifetest, rho = 1)\n",
    "\n",
    "                                    # N Observed Expected (O-E)^2/E (O-E)^2/V\n",
    "# lifetest2$FICO_orig_time_rank=0  9922     2776     1884     422.6     619.1\n",
    "# lifetest2$FICO_orig_time_rank=1 10031     2855     2146     234.2     354.6\n",
    "# lifetest2$FICO_orig_time_rank=2 10022     2702     2362      48.9      76.3\n",
    "# lifetest2$FICO_orig_time_rank=3  9992     2225     2627      61.5      99.7\n",
    "# lifetest2$FICO_orig_time_rank=4 10033     1391     2930     808.4    1371.6\n",
    "\n",
    " # Chisq= 2001  on 4 degrees of freedom, p= <2e-16 \n",
    " \n",
    " # **Exhibit 7.10b**"
   ]
  },
  {
   "cell_type": "code",
   "execution_count": 62,
   "metadata": {},
   "outputs": [
    {
     "ename": "SyntaxError",
     "evalue": "invalid syntax (<ipython-input-62-c6d5fcb24039>, line 1)",
     "traceback": [
      "\u001b[1;36m  File \u001b[1;32m\"<ipython-input-62-c6d5fcb24039>\"\u001b[1;36m, line \u001b[1;32m1\u001b[0m\n\u001b[1;33m    survdiff(formula = Surv(time2, default_time) ~ lifetest2$FICO_orig_time_rank,\u001b[0m\n\u001b[1;37m                                                 ^\u001b[0m\n\u001b[1;31mSyntaxError\u001b[0m\u001b[1;31m:\u001b[0m invalid syntax\n"
     ],
     "output_type": "error"
    }
   ],
   "source": [
    "survdiff(formula = Surv(time2, default_time) ~ lifetest2$FICO_orig_time_rank,\n",
    "         data = lifetest, rho = 1)"
   ]
  },
  {
   "cell_type": "code",
   "execution_count": 63,
   "metadata": {},
   "outputs": [
    {
     "data": {
      "text/plain": [
       "<lifelines.KaplanMeierFitter: fitted with 50000 observations, 34846 censored>"
      ]
     },
     "execution_count": 63,
     "metadata": {},
     "output_type": "execute_result"
    }
   ],
   "source": [
    "kmf.fit(durations = lifetest.time2, \n",
    "        event_observed = lifetest.default_time)"
   ]
  },
  {
   "cell_type": "code",
   "execution_count": null,
   "metadata": {},
   "outputs": [],
   "source": []
  },
  {
   "cell_type": "code",
   "execution_count": null,
   "metadata": {},
   "outputs": [],
   "source": []
  },
  {
   "cell_type": "code",
   "execution_count": null,
   "metadata": {},
   "outputs": [],
   "source": []
  },
  {
   "cell_type": "markdown",
   "metadata": {},
   "source": [
    "**Exhibit 7.10b**"
   ]
  },
  {
   "cell_type": "markdown",
   "metadata": {},
   "source": [
    "# Cox Proportional Hazards Models\n",
    "## Cox Proportional Hazards Model in R Using coxph\n",
    "Use function *coxph()* from library *survival* to fit a Cox Proportional Hazards model."
   ]
  },
  {
   "cell_type": "code",
   "execution_count": null,
   "metadata": {},
   "outputs": [],
   "source": [
    "from lifelines import CoxPHFitter\n",
    "cph = CoxPHFitter()\n",
    "from lifelines.datasets import load_rossi"
   ]
  },
  {
   "cell_type": "code",
   "execution_count": null,
   "metadata": {},
   "outputs": [],
   "source": [
    " #Cox Proportional Hazards Models\n",
    " ##Cox Proportional Hazards Model in R Using coxph\n",
    " # Use function *coxph()* from library *survival* to fit a Cox Proportional Hazards model.\n",
    " ## ----cph-----------------------------------------------------------------\n",
    " cph.model <- coxph(Surv(time2, default_time) ~ FICO_orig_time + LTV_orig_time, data = lifetest, ties = \"efron\")\n",
    " summary(cph.model)\n",
    "# Call:\n",
    "# coxph(formula = Surv(time2, default_time) ~ FICO_orig_time  \n",
    "    # LTV_orig_time, data = lifetest, ties = \"efron\")\n",
    "\n",
    "  # n= 50000, number of events= 15154 \n",
    "\n",
    "                     # coef  exp(coef)   se(coef)      z Pr(>|z|)    \n",
    "# FICO_orig_time -0.0044157  0.9955940  0.0001114 -39.64   <2e-16 ***\n",
    "# LTV_orig_time   0.0155425  1.0156639  0.0008019  19.38   <2e-16 ***\n",
    "# ---\n",
    "# Signif. codes:  0 ‘***’ 0.001 ‘**’ 0.01 ‘*’ 0.05 ‘.’ 0.1 ‘ ’ 1\n",
    "\n",
    "               # exp(coef) exp(-coef) lower .95 upper .95\n",
    "# FICO_orig_time    0.9956     1.0044    0.9954    0.9958\n",
    "# LTV_orig_time     1.0157     0.9846    1.0141    1.0173\n",
    "\n",
    "# Concordance= 0.63  (se = 0.003 )\n",
    "# Rsquare= 0.042   (max possible= 0.998 )\n",
    "# Likelihood ratio test= 2164  on 2 df,   p=<2e-16\n",
    "# Wald test            = 2184  on 2 df,   p=<2e-16\n",
    "# Score (logrank) test = 2199  on 2 df,   p=<2e-16\n",
    "\n",
    " \n",
    " # **Exhibit 7.13**"
   ]
  },
  {
   "cell_type": "code",
   "execution_count": null,
   "metadata": {},
   "outputs": [],
   "source": [
    " cph.model <- coxph(Surv(time2, default_time) ~ FICO_orig_time + LTV_orig_time, data = lifetest, ties = \"efron\")\n",
    " summary(cph.model)"
   ]
  },
  {
   "cell_type": "code",
   "execution_count": null,
   "metadata": {},
   "outputs": [],
   "source": []
  },
  {
   "cell_type": "code",
   "execution_count": null,
   "metadata": {},
   "outputs": [],
   "source": []
  },
  {
   "cell_type": "code",
   "execution_count": null,
   "metadata": {},
   "outputs": [],
   "source": []
  },
  {
   "cell_type": "markdown",
   "metadata": {},
   "source": [
    "**Exhibit 7.13**"
   ]
  },
  {
   "cell_type": "code",
   "execution_count": 43,
   "metadata": {},
   "outputs": [],
   "source": []
  },
  {
   "cell_type": "code",
   "execution_count": 44,
   "metadata": {},
   "outputs": [
    {
     "ename": "NameError",
     "evalue": "name 'lifetestb' is not defined",
     "traceback": [
      "\u001b[1;31m---------------------------------------------------------------------------\u001b[0m",
      "\u001b[1;31mNameError\u001b[0m                                 Traceback (most recent call last)",
      "\u001b[1;32m<ipython-input-44-512020ae1944>\u001b[0m in \u001b[0;36m<module>\u001b[1;34m\u001b[0m\n\u001b[0;32m      1\u001b[0m \u001b[1;31m#rossi_dataset = load_rossi()\u001b[0m\u001b[1;33m\u001b[0m\u001b[1;33m\u001b[0m\u001b[0m\n\u001b[0;32m      2\u001b[0m \u001b[0mcph\u001b[0m \u001b[1;33m=\u001b[0m \u001b[0mCoxPHFitter\u001b[0m\u001b[1;33m(\u001b[0m\u001b[1;33m)\u001b[0m\u001b[1;33m\u001b[0m\u001b[0m\n\u001b[1;32m----> 3\u001b[1;33m \u001b[0mcph\u001b[0m\u001b[1;33m.\u001b[0m\u001b[0mfit\u001b[0m\u001b[1;33m(\u001b[0m\u001b[0mlifetestb\u001b[0m\u001b[1;33m.\u001b[0m\u001b[0mdropna\u001b[0m\u001b[1;33m,\u001b[0m \u001b[0mduration_col\u001b[0m\u001b[1;33m=\u001b[0m\u001b[1;34m'time2'\u001b[0m\u001b[1;33m,\u001b[0m \u001b[0mevent_col\u001b[0m\u001b[1;33m=\u001b[0m\u001b[1;34m'default_time'\u001b[0m\u001b[1;33m,\u001b[0m \u001b[0mshow_progress\u001b[0m\u001b[1;33m=\u001b[0m\u001b[1;32mTrue\u001b[0m\u001b[1;33m)\u001b[0m\u001b[1;33m\u001b[0m\u001b[0m\n\u001b[0m\u001b[0;32m      4\u001b[0m \u001b[1;33m\u001b[0m\u001b[0m\n\u001b[0;32m      5\u001b[0m \u001b[1;31m#cph.fit(rossi_dataset, duration_col='week', event_col='arrest', show_progress=True)\u001b[0m\u001b[1;33m\u001b[0m\u001b[1;33m\u001b[0m\u001b[0m\n",
      "\u001b[1;31mNameError\u001b[0m: name 'lifetestb' is not defined"
     ],
     "output_type": "error"
    }
   ],
   "source": [
    "#rossi_dataset = load_rossi()\n",
    "cph = CoxPHFitter()\n",
    "cph.fit(lifetestb.dropna, duration_col='time2', event_col='default_time', show_progress=True)\n",
    "\n",
    "#cph.fit(rossi_dataset, duration_col='week', event_col='arrest', show_progress=True)\n",
    "#cph.fit(lifetest.dropna, duration_col= lifetest_temp1['time2'], event_col='default_time', show_progress=True)\n",
    "\n",
    "cph.print_summary()  # access the results using cph.summary"
   ]
  },
  {
   "cell_type": "code",
   "execution_count": null,
   "metadata": {},
   "outputs": [],
   "source": []
  },
  {
   "cell_type": "code",
   "execution_count": 104,
   "metadata": {},
   "outputs": [],
   "source": [
    "T = lifetestb['default_time'].values #duration column\n",
    "E = lifetestb['time2'].values # event column"
   ]
  },
  {
   "cell_type": "code",
   "execution_count": null,
   "metadata": {},
   "outputs": [],
   "source": []
  },
  {
   "cell_type": "code",
   "execution_count": 99,
   "metadata": {
    "scrolled": true
   },
   "outputs": [
    {
     "ename": "KeyError",
     "evalue": "'T'",
     "traceback": [
      "\u001b[1;31m---------------------------------------------------------------------------\u001b[0m",
      "\u001b[1;31mKeyError\u001b[0m                                  Traceback (most recent call last)",
      "\u001b[1;32m<ipython-input-99-d6203071232f>\u001b[0m in \u001b[0;36m<module>\u001b[1;34m()\u001b[0m\n\u001b[0;32m      1\u001b[0m \u001b[0mcph\u001b[0m \u001b[1;33m=\u001b[0m \u001b[0mCoxPHFitter\u001b[0m\u001b[1;33m(\u001b[0m\u001b[1;33m)\u001b[0m\u001b[1;33m\u001b[0m\u001b[0m\n\u001b[1;32m----> 2\u001b[1;33m \u001b[0mcph\u001b[0m\u001b[1;33m.\u001b[0m\u001b[0mfit\u001b[0m\u001b[1;33m(\u001b[0m\u001b[0mlifetestb\u001b[0m\u001b[1;33m,\u001b[0m \u001b[1;34m'T'\u001b[0m\u001b[1;33m,\u001b[0m \u001b[1;34m'E'\u001b[0m\u001b[1;33m,\u001b[0m \u001b[0mcluster_col\u001b[0m\u001b[1;33m=\u001b[0m\u001b[1;34m'LTV_orig_time'\u001b[0m\u001b[1;33m)\u001b[0m\u001b[1;33m\u001b[0m\u001b[0m\n\u001b[0m\u001b[0;32m      3\u001b[0m \u001b[0mcph\u001b[0m\u001b[1;33m.\u001b[0m\u001b[0mprint_summary\u001b[0m\u001b[1;33m(\u001b[0m\u001b[1;33m)\u001b[0m\u001b[1;33m\u001b[0m\u001b[0m\n",
      "\u001b[1;32mC:\\ProgramData\\Anaconda3\\lib\\site-packages\\lifelines\\fitters\\coxph_fitter.py\u001b[0m in \u001b[0;36mfit\u001b[1;34m(self, df, duration_col, event_col, show_progress, initial_beta, strata, step_size, weights_col, cluster_col, robust, batch_mode)\u001b[0m\n\u001b[0;32m    254\u001b[0m         \u001b[0mself\u001b[0m\u001b[1;33m.\u001b[0m\u001b[0mstrata\u001b[0m \u001b[1;33m=\u001b[0m \u001b[0mcoalesce\u001b[0m\u001b[1;33m(\u001b[0m\u001b[0mstrata\u001b[0m\u001b[1;33m,\u001b[0m \u001b[0mself\u001b[0m\u001b[1;33m.\u001b[0m\u001b[0mstrata\u001b[0m\u001b[1;33m)\u001b[0m\u001b[1;33m\u001b[0m\u001b[0m\n\u001b[0;32m    255\u001b[0m \u001b[1;33m\u001b[0m\u001b[0m\n\u001b[1;32m--> 256\u001b[1;33m         \u001b[0mX\u001b[0m\u001b[1;33m,\u001b[0m \u001b[0mT\u001b[0m\u001b[1;33m,\u001b[0m \u001b[0mE\u001b[0m\u001b[1;33m,\u001b[0m \u001b[0mweights\u001b[0m\u001b[1;33m,\u001b[0m \u001b[0moriginal_index\u001b[0m\u001b[1;33m,\u001b[0m \u001b[0mself\u001b[0m\u001b[1;33m.\u001b[0m\u001b[0m_clusters\u001b[0m \u001b[1;33m=\u001b[0m \u001b[0mself\u001b[0m\u001b[1;33m.\u001b[0m\u001b[0m_preprocess_dataframe\u001b[0m\u001b[1;33m(\u001b[0m\u001b[0mdf\u001b[0m\u001b[1;33m)\u001b[0m\u001b[1;33m\u001b[0m\u001b[0m\n\u001b[0m\u001b[0;32m    257\u001b[0m \u001b[1;33m\u001b[0m\u001b[0m\n\u001b[0;32m    258\u001b[0m         \u001b[0mself\u001b[0m\u001b[1;33m.\u001b[0m\u001b[0mdurations\u001b[0m \u001b[1;33m=\u001b[0m \u001b[0mT\u001b[0m\u001b[1;33m.\u001b[0m\u001b[0mcopy\u001b[0m\u001b[1;33m(\u001b[0m\u001b[1;33m)\u001b[0m\u001b[1;33m\u001b[0m\u001b[0m\n",
      "\u001b[1;32mC:\\ProgramData\\Anaconda3\\lib\\site-packages\\lifelines\\fitters\\coxph_fitter.py\u001b[0m in \u001b[0;36m_preprocess_dataframe\u001b[1;34m(self, df)\u001b[0m\n\u001b[0;32m    303\u001b[0m             \u001b[0mdf\u001b[0m \u001b[1;33m=\u001b[0m \u001b[0mdf\u001b[0m\u001b[1;33m.\u001b[0m\u001b[0mset_index\u001b[0m\u001b[1;33m(\u001b[0m\u001b[0mself\u001b[0m\u001b[1;33m.\u001b[0m\u001b[0mstrata\u001b[0m\u001b[1;33m)\u001b[0m\u001b[1;33m\u001b[0m\u001b[0m\n\u001b[0;32m    304\u001b[0m         \u001b[1;32melse\u001b[0m\u001b[1;33m:\u001b[0m\u001b[1;33m\u001b[0m\u001b[0m\n\u001b[1;32m--> 305\u001b[1;33m             \u001b[0mdf\u001b[0m \u001b[1;33m=\u001b[0m \u001b[0mdf\u001b[0m\u001b[1;33m.\u001b[0m\u001b[0msort_values\u001b[0m\u001b[1;33m(\u001b[0m\u001b[0mby\u001b[0m\u001b[1;33m=\u001b[0m\u001b[0mself\u001b[0m\u001b[1;33m.\u001b[0m\u001b[0mduration_col\u001b[0m\u001b[1;33m)\u001b[0m\u001b[1;33m\u001b[0m\u001b[0m\n\u001b[0m\u001b[0;32m    306\u001b[0m             \u001b[0moriginal_index\u001b[0m \u001b[1;33m=\u001b[0m \u001b[0mdf\u001b[0m\u001b[1;33m.\u001b[0m\u001b[0mindex\u001b[0m\u001b[1;33m.\u001b[0m\u001b[0mcopy\u001b[0m\u001b[1;33m(\u001b[0m\u001b[1;33m)\u001b[0m\u001b[1;33m\u001b[0m\u001b[0m\n\u001b[0;32m    307\u001b[0m \u001b[1;33m\u001b[0m\u001b[0m\n",
      "\u001b[1;32mC:\\ProgramData\\Anaconda3\\lib\\site-packages\\pandas\\core\\frame.py\u001b[0m in \u001b[0;36msort_values\u001b[1;34m(self, by, axis, ascending, inplace, kind, na_position)\u001b[0m\n\u001b[0;32m   4419\u001b[0m             \u001b[0mby\u001b[0m \u001b[1;33m=\u001b[0m \u001b[0mby\u001b[0m\u001b[1;33m[\u001b[0m\u001b[1;36m0\u001b[0m\u001b[1;33m]\u001b[0m\u001b[1;33m\u001b[0m\u001b[0m\n\u001b[0;32m   4420\u001b[0m             k = self._get_label_or_level_values(by, axis=axis,\n\u001b[1;32m-> 4421\u001b[1;33m                                                 stacklevel=stacklevel)\n\u001b[0m\u001b[0;32m   4422\u001b[0m \u001b[1;33m\u001b[0m\u001b[0m\n\u001b[0;32m   4423\u001b[0m             \u001b[1;32mif\u001b[0m \u001b[0misinstance\u001b[0m\u001b[1;33m(\u001b[0m\u001b[0mascending\u001b[0m\u001b[1;33m,\u001b[0m \u001b[1;33m(\u001b[0m\u001b[0mtuple\u001b[0m\u001b[1;33m,\u001b[0m \u001b[0mlist\u001b[0m\u001b[1;33m)\u001b[0m\u001b[1;33m)\u001b[0m\u001b[1;33m:\u001b[0m\u001b[1;33m\u001b[0m\u001b[0m\n",
      "\u001b[1;32mC:\\ProgramData\\Anaconda3\\lib\\site-packages\\pandas\\core\\generic.py\u001b[0m in \u001b[0;36m_get_label_or_level_values\u001b[1;34m(self, key, axis, stacklevel)\u001b[0m\n\u001b[0;32m   1380\u001b[0m             \u001b[0mvalues\u001b[0m \u001b[1;33m=\u001b[0m \u001b[0mself\u001b[0m\u001b[1;33m.\u001b[0m\u001b[0maxes\u001b[0m\u001b[1;33m[\u001b[0m\u001b[0maxis\u001b[0m\u001b[1;33m]\u001b[0m\u001b[1;33m.\u001b[0m\u001b[0mget_level_values\u001b[0m\u001b[1;33m(\u001b[0m\u001b[0mkey\u001b[0m\u001b[1;33m)\u001b[0m\u001b[1;33m.\u001b[0m\u001b[0m_values\u001b[0m\u001b[1;33m\u001b[0m\u001b[0m\n\u001b[0;32m   1381\u001b[0m         \u001b[1;32melse\u001b[0m\u001b[1;33m:\u001b[0m\u001b[1;33m\u001b[0m\u001b[0m\n\u001b[1;32m-> 1382\u001b[1;33m             \u001b[1;32mraise\u001b[0m \u001b[0mKeyError\u001b[0m\u001b[1;33m(\u001b[0m\u001b[0mkey\u001b[0m\u001b[1;33m)\u001b[0m\u001b[1;33m\u001b[0m\u001b[0m\n\u001b[0m\u001b[0;32m   1383\u001b[0m \u001b[1;33m\u001b[0m\u001b[0m\n\u001b[0;32m   1384\u001b[0m         \u001b[1;31m# Check for duplicates\u001b[0m\u001b[1;33m\u001b[0m\u001b[1;33m\u001b[0m\u001b[0m\n",
      "\u001b[1;31mKeyError\u001b[0m: 'T'"
     ],
     "output_type": "error"
    }
   ],
   "source": [
    "cph = CoxPHFitter()\n",
    "cph.fit(lifetestb, 'T', 'E', cluster_col='LTV_orig_time')\n",
    "cph.print_summary()"
   ]
  },
  {
   "cell_type": "code",
   "execution_count": null,
   "metadata": {},
   "outputs": [],
   "source": []
  },
  {
   "cell_type": "code",
   "execution_count": null,
   "metadata": {},
   "outputs": [],
   "source": []
  },
  {
   "cell_type": "code",
   "execution_count": null,
   "metadata": {},
   "outputs": [],
   "source": []
  },
  {
   "cell_type": "code",
   "execution_count": 87,
   "metadata": {},
   "outputs": [],
   "source": [
    "from lifelines.estimation import NelsonAalenFitter\n",
    "\n",
    "naf = NelsonAalenFitter()"
   ]
  },
  {
   "cell_type": "code",
   "execution_count": 89,
   "metadata": {},
   "outputs": [
    {
     "data": {
      "text/plain": [
       "<lifelines.NelsonAalenFitter: fitted with 50000 observations, 0 censored>"
      ]
     },
     "execution_count": 89,
     "metadata": {},
     "output_type": "execute_result"
    }
   ],
   "source": [
    "naf.fit(T)"
   ]
  },
  {
   "cell_type": "code",
   "execution_count": 91,
   "metadata": {},
   "outputs": [
    {
     "name": "stdout",
     "output_type": "stream",
     "text": [
      "          NA_estimate\n",
      "timeline             \n",
      "0.0          1.193735\n",
      "1.0         11.397004\n"
     ]
    },
    {
     "data": {
      "text/plain": [
       "<matplotlib.axes._subplots.AxesSubplot at 0x1fdd3852c18>"
      ]
     },
     "execution_count": 91,
     "metadata": {},
     "output_type": "execute_result"
    },
    {
     "data": {
      "image/png": "[encoded data removed]",
      "text/plain": [
       "<Figure size 432x288 with 1 Axes>"
      ]
     },
     "metadata": {},
     "output_type": "display_data"
    }
   ],
   "source": [
    "print (naf.cumulative_hazard_.head())\n",
    "naf.plot()"
   ]
  },
  {
   "cell_type": "code",
   "execution_count": 92,
   "metadata": {},
   "outputs": [
    {
     "name": "stdout",
     "output_type": "stream",
     "text": [
      "<lifelines.CoxPHFitter: fitted with 12 observations, 3 censored>\n",
      "      duration col = 'T'\n",
      "         event col = 'E'\n",
      "       cluster col = 'id'\n",
      "   robust variance = True\n",
      "number of subjects = 12\n",
      "  number of events = 9\n",
      "    log-likelihood = -2.77\n",
      "  time fit was run = 2019-03-01 05:12:39 UTC\n",
      "\n",
      "---\n",
      "        coef  exp(coef)  se(coef)      z      p  -log2(p)  lower 0.95  upper 0.95\n",
      "month  -3.13       0.04      0.10 -29.92 <0.005    650.87       -3.33       -2.92\n",
      "age   -15.63       0.00      0.23 -68.05 <0.005       inf      -16.08      -15.18\n",
      "---\n",
      "Concordance = 0.97\n",
      "Likelihood ratio test = 23.47 on 2 df, -log2(p)=16.93\n"
     ]
    },
    {
     "name": "stderr",
     "output_type": "stream",
     "text": [
      "C:\\ProgramData\\Anaconda3\\lib\\site-packages\\lifelines\\fitters\\coxph_fitter.py:527: ConvergenceWarning: Newton-Rhapson convergence completed but norm(delta) is still high, 1.890. This may imply non-unique solutions to the maximum likelihood. Perhaps there is colinearity or complete separation in the dataset?\n",
      "  ConvergenceWarning,\n"
     ]
    }
   ],
   "source": [
    "# from lifelines import CoxPHFitter\n",
    "\n",
    "df = pd.DataFrame({\n",
    "    'T': [5, 3, 9, 8, 7, 4, 4, 3, 2, 5, 6, 7],\n",
    "    'E': [1, 1, 1, 1, 1, 1, 0, 0, 1, 1, 1, 0],\n",
    "    'month': [10, 3, 9, 8, 7, 4, 4, 3, 2, 5, 6, 7],\n",
    "    'age': [4, 3, 9, 8, 7, 4, 4, 3, 2, 5, 6, 7],\n",
    "    'id': [1, 1, 1, 1, 2, 3, 3, 4, 4, 5, 6, 7]\n",
    "})\n",
    "\n",
    "# cph = CoxPHFitter()\n",
    "cph.fit(df, 'T', 'E', cluster_col='id')\n",
    "cph.print_summary()"
   ]
  },
  {
   "cell_type": "code",
   "execution_count": null,
   "metadata": {},
   "outputs": [],
   "source": []
  },
  {
   "cell_type": "code",
   "execution_count": null,
   "metadata": {},
   "outputs": [],
   "source": []
  },
  {
   "cell_type": "markdown",
   "metadata": {},
   "source": [
    "Use new data sets to generate two survival curves by using function *survfit()*. Then, plot them."
   ]
  },
  {
   "cell_type": "raw",
   "metadata": {},
   "source": [
    "# Use 2 set of new data to generate 2 survival curves by using function *survfit()*. Then, plot them.\n",
    " ## ----survival curves-----------------------------------------------------\n",
    " curve.high <- survfit(cph.model, newdata = data.frame(FICO_orig_time = 600, LTV_orig_time = 90), conf.type = \"none\")\n",
    " curve.low <- survfit(cph.model, newdata = data.frame(FICO_orig_time = 800, LTV_orig_time = 60), conf.type = \"none\")"
   ]
  },
  {
   "cell_type": "code",
   "execution_count": null,
   "metadata": {},
   "outputs": [],
   "source": [
    "curve.high = survfit(cph.model, newdata = data.frame(FICO_orig_time = 600, LTV_orig_time = 90), conf.type = \"none\")\n",
    "curve.low = survfit(cph.model, newdata = data.frame(FICO_orig_time = 800, LTV_orig_time = 60), conf.type = \"none\")"
   ]
  },
  {
   "cell_type": "raw",
   "metadata": {},
   "source": [
    " plot(curve.high, xlim = c(0, 45), xlab = \"time2\", main = \"Survivor Functions\", ylab = \"Survival Probability\", lty = 1)\n",
    " lines(curve.low, lty = 2, add = TRUE)\n",
    " legend(x = \"bottom\", bty = \"n\", cex=0.8, legend = c(\"high\", \"low\"), lty = 1:2, lwd = 1, horiz = TRUE)\n",
    " dev.copy(png,'Survivor Functions.png')\n",
    "# png \n",
    "  # 4 \n",
    " dev.off()\n",
    "# RStudioGD \n",
    "        # 2 \n",
    " \n",
    " # *Exhibit 7.14**"
   ]
  },
  {
   "cell_type": "code",
   "execution_count": null,
   "metadata": {},
   "outputs": [],
   "source": [
    "plot(curve.high, xlim = c(0, 45), xlab = \"time2\", main = \"Survivor Functions\", ylab = \"Survival Probability\", lty = 1)\n",
    " lines(curve.low, lty = 2, add = TRUE)\n",
    " legend(x = \"bottom\", bty = \"n\", cex=0.8, legend = c(\"high\", \"low\"), lty = 1:2, lwd = 1, horiz = TRUE)"
   ]
  },
  {
   "cell_type": "code",
   "execution_count": null,
   "metadata": {},
   "outputs": [],
   "source": [
    "# print many lines together \n",
    "\n",
    "#f2 = tongue.type==2\n",
    "#T2 = tongue[f2]['time']\n",
    "#C2 = tongue[f2]['delta']\n",
    "\n",
    "#ax = plt.subplot(111)\n",
    "\n",
    "#kmf.fit(T, event_observed=C, label=['Type 1 DNA'])\n",
    "#kmf.survival_function_.plot(ax=ax)\n",
    "#kmf.fit(T2, event_observed=C2, label=['Type 2 DNA'])\n",
    "#kmf.survival_function_.plot(ax=ax)\n",
    "\n",
    "#plt.title('Lifespans of different tumor DNA profile')\n",
    "\n",
    "#kmf2 = plt.gcf()"
   ]
  },
  {
   "cell_type": "markdown",
   "metadata": {},
   "source": [
    "*Exhibit 7.14**"
   ]
  },
  {
   "cell_type": "markdown",
   "metadata": {},
   "source": [
    "## Time-Varying Covariates: Aggregation of Time-Varying Information\n",
    "Create a new copy of the data set *mortgage* with name as *moment*. Then sort it by *id* with descending order and remove rows with duplicated *id*. Afterwards, select 3 variables (columns) and rename them."
   ]
  },
  {
   "cell_type": "raw",
   "metadata": {},
   "source": [
    " ##Time-Varying Covariates: Aggregation of Time-Varying Information\n",
    " # Create a new copy of the data set *mortgage* with name as *moment*. Then sort it by *id* with descending order and remove rows with duplicated *id*. Afterwards, select 3 variables (columns) and rename them.\n",
    " ## ----copy moment---------------------------------------------------------\n",
    " moment <- mortgage\n",
    " moment <- moment[order(moment$id, decreasing = TRUE), ]\n",
    " moment <- moment[!duplicated(moment$id), ]\n",
    " \n",
    " moment <- subset(moment, select = c(\"id\", \"LTV_time\", \"gdp_time\"))\n",
    " colnames(moment) <- c(\"id\", \"LTV\", \"gdp\")"
   ]
  },
  {
   "cell_type": "code",
   "execution_count": null,
   "metadata": {},
   "outputs": [],
   "source": [
    " moment <- mortgage\n",
    " moment <- moment[order(moment$id, decreasing = TRUE), ]\n",
    " moment <- moment[!duplicated(moment$id), ]\n",
    " \n",
    " moment <- subset(moment, select = c(\"id\", \"LTV_time\", \"gdp_time\"))\n",
    " colnames(moment) <- c(\"id\", \"LTV\", \"gdp\")"
   ]
  },
  {
   "cell_type": "markdown",
   "metadata": {},
   "source": [
    "Sort the data set *lifetest* by *id* and then merge it with *moment* to form a new data set *lifetest2*."
   ]
  },
  {
   "cell_type": "raw",
   "metadata": {},
   "source": [
    " # Sort the data set *lifetest* by *id* and then merge it with *moment* to form a new data set *lifetest2*.\n",
    " ## ----merge to lifetest2--------------------------------------------------\n",
    " lifetest <- lifetest[order(lifetest$id), ]\n",
    " lifetest2 <- merge(lifetest, moment)"
   ]
  },
  {
   "cell_type": "code",
   "execution_count": null,
   "metadata": {},
   "outputs": [],
   "source": [
    " lifetest <- lifetest[order(lifetest$id), ]\n",
    " lifetest2 <- merge(lifetest, moment)"
   ]
  },
  {
   "cell_type": "markdown",
   "metadata": {},
   "source": [
    "Use *lifetest2* to fit a Cox Proportional Hazards model by using function *coxph()*."
   ]
  },
  {
   "cell_type": "raw",
   "metadata": {},
   "source": [
    " # Use *lifetest2* to fit a Cox Proportional Hazards model by using function *coxph()*.\n",
    " ## ----cph2----------------------------------------------------------------\n",
    " \n",
    " cph.model <- coxph(Surv(time2, default_time) ~ FICO_orig_time + LTV + gdp, data = lifetest2, ties = \"efron\")\n",
    " summary(cph.model)\n",
    " \n",
    "# Call:\n",
    "# coxph(formula = Surv(time2, default_time) ~ FICO_orig_time  \n",
    "    # LTV  gdp, data = lifetest2, ties = \"efron\")\n",
    "\n",
    "  # n= 49982, number of events= 15149 \n",
    "   # (18 observations deleted due to missingness)\n",
    "\n",
    "                     # coef  exp(coef)   se(coef)      z Pr(>|z|)    \n",
    "# FICO_orig_time -0.0046074  0.9954032  0.0001132 -40.69   <2e-16 ***\n",
    "# LTV             0.0177172  1.0178750  0.0006075  29.16   <2e-16 ***\n",
    "# gdp            -0.1495558  0.8610904  0.0083899 -17.83   <2e-16 ***\n",
    "# ---\n",
    "# Signif. codes:  0 ‘***’ 0.001 ‘**’ 0.01 ‘*’ 0.05 ‘.’ 0.1 ‘ ’ 1\n",
    "\n",
    "               # exp(coef) exp(-coef) lower .95 upper .95\n",
    "# FICO_orig_time    0.9954     1.0046    0.9952    0.9956\n",
    "# LTV               1.0179     0.9824    1.0167    1.0191\n",
    "# gdp               0.8611     1.1613    0.8470    0.8754\n",
    "\n",
    "# Concordance= 0.677  (se = 0.003 )\n",
    "# Rsquare= 0.073   (max possible= 0.998 )\n",
    "# Likelihood ratio test= 3786  on 3 df,   p=<2e-16\n",
    "# Wald test            = 3984  on 3 df,   p=<2e-16\n",
    "# Score (logrank) test = 3946  on 3 df,   p=<2e-16\n",
    "\n",
    " \n",
    " # **Exhibit 7.15**"
   ]
  },
  {
   "cell_type": "code",
   "execution_count": null,
   "metadata": {},
   "outputs": [],
   "source": [
    " cph.model <- coxph(Surv(time2, default_time) ~ FICO_orig_time + LTV + gdp, data = lifetest2, ties = \"efron\")\n",
    " summary(cph.model)"
   ]
  },
  {
   "cell_type": "markdown",
   "metadata": {},
   "source": [
    "**Exhibit 7.15**"
   ]
  },
  {
   "cell_type": "markdown",
   "metadata": {},
   "source": [
    "## Time-Varying Covariates: Counting Process Data\n",
    "Create a new copy of the data set *mortgage* with name as *phreg*. Generate *time1* and *time2*."
   ]
  },
  {
   "cell_type": "raw",
   "metadata": {},
   "source": [
    " ##Time-Varying Covariates: Counting Process Data\n",
    " # Create a new copy of the data set *mortgage* with name as *phreg*. Generate *time1* and *time2*.\n",
    " ## ----copy phreg----------------------------------------------------------\n",
    " phreg <- mortgage\n",
    " phreg$time1 <- phreg$time - phreg$first_time\n",
    " phreg$time2 <- phreg$time - phreg$first_time + 1"
   ]
  },
  {
   "cell_type": "code",
   "execution_count": null,
   "metadata": {},
   "outputs": [],
   "source": [
    " phreg <- mortgage\n",
    " phreg$time1 <- phreg$time - phreg$first_time\n",
    " phreg$time2 <- phreg$time - phreg$first_time + 1"
   ]
  },
  {
   "cell_type": "markdown",
   "metadata": {},
   "source": [
    "Extract a sample from *phreg* with specific *id*."
   ]
  },
  {
   "cell_type": "raw",
   "metadata": {},
   "source": [
    " # Extract a sample from *phreg* with specific *id*.\n",
    " ## ----sample--------------------------------------------------------------\n",
    " \n",
    "variables <- c(\"id\", \"first_time\", \"time\", \"time1\", \"time2\", \"default_time\", \"payoff_time\",\n",
    "                \"FICO_orig_time\", \"LTV_orig_time\", \"LTV_time\", \"gdp_time\")\n",
    " \n",
    " id46 <- phreg[which(phreg$id == 46 & phreg$time %in% c(27:29)), variables]\n",
    " id47 <- phreg[which(phreg$id == 47 & phreg$time %in% c(25:27)), variables]\n",
    " id56 <- phreg[which(phreg$id == 56 & phreg$time %in% c(58:60)), variables]\n",
    " print(rbind(id46, id47, id56))\n",
    " \n",
    "    # id first_time time time1 time2 default_time payoff_time FICO_orig_time LTV_orig_time LTV_time gdp_time\n",
    "# 357 46         25   27     2     3            0           0            581          80.0 67.59135 2.361722\n",
    "# 358 46         25   28     3     4            0           0            581          80.0 68.29191 1.229172\n",
    "# 359 46         25   29     4     5            1           0            581          80.0 68.87517 1.692969\n",
    "# 360 47         25   25     0     1            0           0            600          80.0 66.79381 2.899137\n",
    "# 361 47         25   26     1     2            0           0            600          80.0 66.96092 2.151365\n",
    "# 362 47         25   27     2     3            0           1            600          80.0 67.58535 2.361722\n",
    "# 423 56         25   58    33    34            0           0            664          52.5 17.35987 2.868594\n",
    "# 424 56         25   59    34    35            0           0            664          52.5 17.26245 2.443648\n",
    "# 425 56         25   60    35    36            0           0            664          52.5 16.89800 2.836358\n",
    " \n",
    " # **Exhibit 7.16**"
   ]
  },
  {
   "cell_type": "code",
   "execution_count": null,
   "metadata": {},
   "outputs": [],
   "source": [
    " variables <- c(\"id\", \"first_time\", \"time\", \"time1\", \"time2\", \"default_time\", \"payoff_time\", \"FICO_orig_time\", \"LTV_orig_time\", \"LTV_time\", \"gdp_time\")\n",
    " id46 <- phreg[which(phreg$id == 46 & phreg$time %in% c(27:29)), variables]\n",
    " id47 <- phreg[which(phreg$id == 47 & phreg$time %in% c(25:27)), variables]\n",
    " id56 <- phreg[which(phreg$id == 56 & phreg$time %in% c(58:60)), variables]\n",
    " print(rbind(id46, id47, id56))"
   ]
  },
  {
   "cell_type": "markdown",
   "metadata": {},
   "source": [
    "**Exhibit 7.16**"
   ]
  },
  {
   "cell_type": "markdown",
   "metadata": {},
   "source": [
    "Fit a Cox Proportional Hazards model using data set *phreg*."
   ]
  },
  {
   "cell_type": "raw",
   "metadata": {},
   "source": [
    " # Fit a Cox Proportional Hazards model using data set *phreg*.\n",
    " ## ----cph3----------------------------------------------------------------\n",
    " \n",
    " cph.model <- coxph(Surv(time1, time2, default_time) ~ FICO_orig_time + LTV_time + gdp_time, data = phreg, ties = \"efron\")\n",
    " summary(cph.model)\n",
    "\n",
    "# Call:\n",
    "# coxph(formula = Surv(time1, time2, default_time) ~ FICO_orig_time  \n",
    "    # LTV_time  gdp_time, data = phreg, ties = \"efron\")\n",
    "\n",
    "  # n= 622219, number of events= 15153 \n",
    "   # (270 observations deleted due to missingness)\n",
    "\n",
    "                     # coef  exp(coef)   se(coef)      z Pr(>|z|)    \n",
    "# FICO_orig_time -0.0051966  0.9948169  0.0001126 -46.14   <2e-16 ***\n",
    "# LTV_time        0.0087372  1.0087755  0.0001259  69.41   <2e-16 ***\n",
    "# gdp_time       -0.1028564  0.9022566  0.0039499 -26.04   <2e-16 ***\n",
    "# ---\n",
    "# Signif. codes:  0 ‘***’ 0.001 ‘**’ 0.01 ‘*’ 0.05 ‘.’ 0.1 ‘ ’ 1\n",
    "\n",
    "               # exp(coef) exp(-coef) lower .95 upper .95\n",
    "# FICO_orig_time    0.9948     1.0052    0.9946    0.9950\n",
    "# LTV_time          1.0088     0.9913    1.0085    1.0090\n",
    "# gdp_time          0.9023     1.1083    0.8953    0.9093\n",
    "\n",
    "# Concordance= 0.694  (se = 0.003 )\n",
    "# Rsquare= 0.008   (max possible= 0.386 )\n",
    "# Likelihood ratio test= 4917  on 3 df,   p=<2e-16\n",
    "# Wald test            = 7257  on 3 df,   p=<2e-16\n",
    "# Score (logrank) test = 6077  on 3 df,   p=<2e-16\n",
    "\n",
    " \n",
    " # **Exhibit 7.17**"
   ]
  },
  {
   "cell_type": "code",
   "execution_count": null,
   "metadata": {},
   "outputs": [],
   "source": [
    " cph.model <- coxph(Surv(time1, time2, default_time) ~ FICO_orig_time + LTV_time + gdp_time, data = phreg, ties = \"efron\")\n",
    " summary(cph.model)"
   ]
  },
  {
   "cell_type": "markdown",
   "metadata": {},
   "source": [
    "**Exhibit 7.17**"
   ]
  },
  {
   "cell_type": "markdown",
   "metadata": {},
   "source": [
    "Generate survival curves with new inputted data and plot them."
   ]
  },
  {
   "cell_type": "raw",
   "metadata": {},
   "source": [
    " # Generate survival curves with new inputted data and plot them.\n",
    " ## ----survfit2------------------------------------------------------------\n",
    " \n",
    " curve.downturn <- survfit(cph.model, newdata = data.frame(FICO_orig_time = 800, LTV_time = 60,\n",
    "                     gdp_time = -3),conf.type = \"none\")\n",
    " curve.upturn <- survfit(cph.model, newdata = data.frame(FICO_orig_time = 800, LTV_time = 60,\n",
    "                     gdp_time = 3), conf.type = \"none\")\n",
    " "
   ]
  },
  {
   "cell_type": "code",
   "execution_count": null,
   "metadata": {},
   "outputs": [],
   "source": [
    " curve.downturn <- survfit(cph.model, newdata = data.frame(FICO_orig_time = 800, LTV_time = 60, gdp_time = -3),conf.type = \"none\")\n",
    " curve.upturn <- survfit(cph.model, newdata = data.frame(FICO_orig_time = 800, LTV_time = 60, gdp_time = 3), conf.type = \"none\")\n",
    " "
   ]
  },
  {
   "cell_type": "raw",
   "metadata": {},
   "source": [
    " plot(curve.downturn, xlim = c(0, 45), xlab = \"time2\", main = \"Survivor Functions\", ylab = \"Survival Probability\",lty = 1)\n",
    " lines(curve.upturn, lty = 2, add = TRUE)\n",
    " legend(x = \"bottom\", bty = \"n\", cex=0.8, legend = c(\"downturn\", \"upturn\"), lty = 1:2, lwd = 1, horiz = TRUE)\n",
    " dev.copy(png,'Survivor Functions2.png')\n",
    "# png \n",
    "  # 4 \n",
    " dev.off()\n",
    "# RStudioGD \n",
    "        # 2 \n",
    " \n",
    " # **Exhibit 7.18**\n",
    " "
   ]
  },
  {
   "cell_type": "code",
   "execution_count": null,
   "metadata": {},
   "outputs": [],
   "source": [
    " plot(curve.downturn, xlim = c(0, 45), xlab = \"time2\", main = \"Survivor Functions\", ylab = \"Survival Probability\",lty = 1)\n",
    " lines(curve.upturn, lty = 2, add = TRUE)\n",
    " legend(x = \"bottom\", bty = \"n\", cex=0.8, legend = c(\"downturn\", \"upturn\"), lty = 1:2, lwd = 1, horiz = TRUE)"
   ]
  },
  {
   "cell_type": "markdown",
   "metadata": {},
   "source": [
    "**Exhibit 7.18**"
   ]
  },
  {
   "cell_type": "markdown",
   "metadata": {},
   "source": [
    "# Accelerated Failure Time Models\n",
    "## Graphical Procedures\n",
    "Similar to previous procudure, generate a life table from the data set *lifetest* and retrieve survival probabilities from it."
   ]
  },
  {
   "cell_type": "raw",
   "metadata": {},
   "source": [
    " #Accelerated Failure Time Models\n",
    " ##Graphical Procedures\n",
    " # Similar to previous procudure, generate a life table from the data set *lifetest* and retrieve survival probabilities from it.\n",
    " ## ----surv----------------------------------------------------------------\n",
    " \n",
    " tis <- c(seq(0, 102, 1), Inf)\n",
    " ninit <- nrow(lifetest)\n",
    " nlost <- numeric()\n",
    " \n",
    " for (i in 1:length(tis)-1){\n",
    " nlost[i] <- as.numeric(nrow(lifetest[lifetest$time2 >= tis[i] & lifetest$time2 < tis[i+1] & lifetest$default_time == 0, ]))\n",
    " }\n",
    " \n",
    "  nevent <- numeric()\n",
    " for (i in 1:length(tis)-1){\n",
    "  nevent[i] <- as.numeric(nrow(lifetest[lifetest$time2 >= tis[i] & lifetest$time2 < tis[i+1] & lifetest$default_time == 1, ]))\n",
    " }\n",
    " \n",
    " LifeTable <- lifetab(tis, ninit, nlost, nevent)\n",
    " SURVIVAL <- LifeTable$surv"
   ]
  },
  {
   "cell_type": "code",
   "execution_count": null,
   "metadata": {},
   "outputs": [],
   "source": [
    " tis <- c(seq(0, 102, 1), Inf)\n",
    " ninit <- nrow(lifetest)\n",
    " nlost <- numeric()\n",
    " \n",
    " for (i in 1:length(tis)-1){\n",
    " nlost[i] <- as.numeric(nrow(lifetest[lifetest$time2 >= tis[i] & lifetest$time2 < tis[i+1] & lifetest$default_time == 0, ]))\n",
    " }"
   ]
  },
  {
   "cell_type": "code",
   "execution_count": null,
   "metadata": {},
   "outputs": [],
   "source": [
    " nevent <- numeric()\n",
    " for (i in 1:length(tis)-1){\n",
    "  nevent[i] <- as.numeric(nrow(lifetest[lifetest$time2 >= tis[i] & lifetest$time2 < tis[i+1] & lifetest$default_time == 1, ]))\n",
    " }\n",
    " "
   ]
  },
  {
   "cell_type": "code",
   "execution_count": null,
   "metadata": {},
   "outputs": [],
   "source": [
    " LifeTable = lifetab(tis, ninit, nlost, nevent)\n",
    " SURVIVAL = LifeTable['surv'].values"
   ]
  },
  {
   "cell_type": "markdown",
   "metadata": {},
   "source": [
    "Plot the negative log of the survival curve."
   ]
  },
  {
   "cell_type": "raw",
   "metadata": {},
   "source": [
    " # Plot for the negative log of the survival curve.\n",
    " ## ----negative log--------------------------------------------------------\n",
    " \n",
    " plot(-log(SURVIVAL), type = \"o\", main = \"Negative Log of Estimated Survivor Function\",\n",
    "         xlim = c(0, 60), xlab = \"time2\",\n",
    "         ylab = \"-log(Survival Probability)\")\n",
    " \n",
    " dev.copy(png,'Negative Log of Estimated Survivor Function.png')\n",
    "# png \n",
    "  # 4 \n",
    " dev.off()\n",
    "# RStudioGD \n",
    "        # 2 \n",
    " \n",
    " # **Exhibit 7.20**\n",
    " \n",
    " # Plot for log of the negative log of the survival curve.\n",
    " plot(log(-log(SURVIVAL)) ~ log(1:as.numeric(length(SURVIVAL))), type = \"o\",\n",
    "         main = \"Log of Negative Log of Estimated Survivor Function\",\n",
    "         xlab = \"log(time2)\",\n",
    "         ylab =\"log[-log(Survuval Probability)]\")\n",
    " \n",
    " # ```{log of negative log}\n",
    " # plot(log(-log(SURVIVAL)) ~ log(1:as.numeric(length(SURVIVAL))), type = \"o\", main = \"Log of Negative Log of Estimated Survivor Function\", xlab = \"log(time2)\", ylab =\"log[-log(Survuval Probability)]\")\n",
    " # ```\n",
    " \n",
    " # **Exhibit 7.21**\n",
    "   "
   ]
  },
  {
   "cell_type": "code",
   "execution_count": null,
   "metadata": {},
   "outputs": [],
   "source": [
    " plot(-log(SURVIVAL), type = \"o\", main = \"Negative Log of Estimated Survivor Function\",\n",
    "      xlim = c(0, 60), xlab = \"time2\",\n",
    "      ylab = \"-log(Survival Probability)\")"
   ]
  },
  {
   "cell_type": "markdown",
   "metadata": {},
   "source": [
    "**Exhibit 7.20**"
   ]
  },
  {
   "cell_type": "markdown",
   "metadata": {},
   "source": [
    "Plot the log of the negative log of the survival curve."
   ]
  },
  {
   "cell_type": "code",
   "execution_count": null,
   "metadata": {},
   "outputs": [],
   "source": [
    "plot(log(-log(SURVIVAL)) ~ log(1:as.numeric(length(SURVIVAL))), type = \"o\", main = \"Log of Negative Log of Estimated Survivor Function\",\n",
    "         xlab = \"log(time2)\",\n",
    "         ylab =\"log[-log(Survuval Probability)]\")"
   ]
  },
  {
   "cell_type": "markdown",
   "metadata": {},
   "source": [
    "**Exhibit 7.21**"
   ]
  },
  {
   "cell_type": "markdown",
   "metadata": {},
   "source": [
    "## Accelerated Failure Time Models with survreg\n",
    "Fit the survival regression using function *survreg()*."
   ]
  },
  {
   "cell_type": "raw",
   "metadata": {},
   "source": [
    " ##Accelerated Failure Time Models with survreg\n",
    " # Fit the survival regression using function *survreg()*.\n",
    " ## ----survreg-------------------------------------------------------------\n",
    " \n",
    " lifereg <- survreg(Surv(time2, default_time) ~ FICO_orig_time + LTV_orig_time, data = lifetest, dist = \"exponential\")\n",
    " summary(lifereg)\n",
    "\n",
    "# Call:\n",
    "# survreg(formula = Surv(time2, default_time) ~ FICO_orig_time  \n",
    "    # LTV_orig_time, data = lifetest, dist = \"exponential\")\n",
    "                   # Value Std. Error     z      p\n",
    "# (Intercept)     2.113699   0.103653  20.4 <2e-16\n",
    "# FICO_orig_time  0.004299   0.000111  38.7 <2e-16\n",
    "# LTV_orig_time  -0.015494   0.000804 -19.3 <2e-16\n",
    "\n",
    "# Scale fixed at 1 \n",
    "\n",
    "# Exponential distribution\n",
    "# Loglik(model)= -70442.8   Loglik(intercept only)= -71488.3\n",
    "\t# Chisq= 2091.11 on 2 degrees of freedom, p= 0 \n",
    "# Number of Newton-Raphson Iterations: 5 \n",
    "# n= 50000 \n",
    "\n",
    " # **Exhibit 7.23**"
   ]
  },
  {
   "cell_type": "code",
   "execution_count": null,
   "metadata": {},
   "outputs": [],
   "source": [
    " lifereg <- survreg(Surv(time2, default_time) ~ FICO_orig_time + LTV_orig_time, data = lifetest, dist = \"exponential\")\n",
    " summary(lifereg)"
   ]
  },
  {
   "cell_type": "markdown",
   "metadata": {},
   "source": [
    "**Exhibit 7.23**"
   ]
  },
  {
   "cell_type": "markdown",
   "metadata": {},
   "source": [
    "## Calibration of AFT Models: Comparison of Default Indicators and Estimated Default Probabilities\n",
    "Use function *predict()* to compute the linear predictors from the fitted model *lifereg*. Then compute the estimated default probabilities and compare it with the observed one."
   ]
  },
  {
   "cell_type": "raw",
   "metadata": {},
   "source": [
    " ##Calibration of AFT Models: Comparison of Default Indicators and Estimated Default Probabilities\n",
    " # Use function *predict()* to compute the linear predictors from the fitted model *lifereg*. Then compute the estimated default probabilities and compare it with the observed one.\n",
    " ## ----estimate PD---------------------------------------------------------\n",
    "\n",
    " xbeta <- predict(lifereg,type=\"lp\")\n",
    " lambda <- exp(-xbeta)\n",
    " S1 <- 1 - pexp(phreg$time1, rate = lambda)\n",
    " S2 <- 1 - pexp(phreg$time2, rate = lambda)\n",
    " PD_time <- (S1-S2)/S1\n",
    " \n",
    " mean(phreg$default_time, na.rm = TRUE) \n",
    "# [1] 0.02435063\n",
    "\n",
    " mean(PD_time, na.rm = TRUE)\n",
    "# [1] 0.02543701\n",
    " \n",
    " # **Exhibit 7.24**"
   ]
  },
  {
   "cell_type": "code",
   "execution_count": null,
   "metadata": {},
   "outputs": [],
   "source": [
    " xbeta <- predict(lifereg,type=\"lp\")"
   ]
  },
  {
   "cell_type": "code",
   "execution_count": null,
   "metadata": {},
   "outputs": [],
   "source": [
    " lambda <- exp(-xbeta)"
   ]
  },
  {
   "cell_type": "code",
   "execution_count": null,
   "metadata": {},
   "outputs": [],
   "source": [
    " S1 <- 1 - pexp(phreg$time1, rate = lambda)"
   ]
  },
  {
   "cell_type": "code",
   "execution_count": null,
   "metadata": {},
   "outputs": [],
   "source": [
    " S2 <- 1 - pexp(phreg$time2, rate = lambda)"
   ]
  },
  {
   "cell_type": "code",
   "execution_count": null,
   "metadata": {},
   "outputs": [],
   "source": [
    " PD_time <- (S1-S2)/S1"
   ]
  },
  {
   "cell_type": "code",
   "execution_count": null,
   "metadata": {},
   "outputs": [],
   "source": [
    " mean(phreg$default_time, na.rm = TRUE)"
   ]
  },
  {
   "cell_type": "code",
   "execution_count": null,
   "metadata": {},
   "outputs": [],
   "source": [
    " mean(PD_time, na.rm = TRUE)"
   ]
  },
  {
   "cell_type": "markdown",
   "metadata": {},
   "source": [
    "**Exhibit 7.24**"
   ]
  },
  {
   "cell_type": "code",
   "execution_count": null,
   "metadata": {},
   "outputs": [],
   "source": []
  }
 ],
 "metadata": {
  "hide_input": false,
  "kernelspec": {
   "display_name": "Python 3",
   "language": "python",
   "name": "python3"
  },
  "language_info": {
   "codemirror_mode": {
    "name": "ipython",
    "version": 3
   },
   "file_extension": ".py",
   "mimetype": "text/x-python",
   "name": "python",
   "nbconvert_exporter": "python",
   "pygments_lexer": "ipython3",
   "version": "3.7.0"
  },
  "toc": {
   "base_numbering": 1.0,
   "nav_menu": {
    "height": "224px",
    "width": "236.5px"
   },
   "number_sections": true,
   "sideBar": true,
   "skip_h1_title": false,
   "title_cell": "Table of Contents",
   "title_sidebar": "Contents",
   "toc_cell": false,
   "toc_position": {
    "height": "calc(100% - 180px)",
    "left": "10px",
    "top": "150px",
    "width": "165px"
   },
   "toc_section_display": true,
   "toc_window_display": false
  },
  "varInspector": {
   "cols": {
    "lenName": 16.0,
    "lenType": 16.0,
    "lenVar": 40.0
   },
   "kernels_config": {
    "python": {
     "delete_cmd_postfix": "",
     "delete_cmd_prefix": "del ",
     "library": "var_list.py",
     "varRefreshCmd": "print(var_dic_list())"
    },
    "r": {
     "delete_cmd_postfix": ") ",
     "delete_cmd_prefix": "rm(",
     "library": "var_list.r",
     "varRefreshCmd": "cat(var_dic_list()) "
    }
   },
   "types_to_exclude": [
    "module",
    "function",
    "builtin_function_or_method",
    "instance",
    "_Feature"
   ],
   "window_display": false
  }
 },
 "nbformat": 4,
 "nbformat_minor": 2
}
